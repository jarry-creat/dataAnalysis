{
 "cells": [
  {
   "cell_type": "code",
   "execution_count": 12,
   "metadata": {},
   "outputs": [
    {
     "name": "stdout",
     "output_type": "stream",
     "text": [
      "*************************数据样本：统计描述**************************\n",
      "        count      mean        std   min       25%       50%       75%  \\\n",
      "日均UV    889.0  540.8468  1634.4105  0.06    6.1800  114.1800  466.8700   \n",
      "平均注册率   889.0    0.0014     0.0033  0.00    0.0000    0.0000    0.0014   \n",
      "平均搜索量   889.0    0.0305     0.1062  0.00    0.0006    0.0032    0.0118   \n",
      "访问深度    889.0    2.1672     3.8005  1.00    1.3923    1.7931    2.2162   \n",
      "平均停留时间  887.0  262.6692   224.3649  1.64  126.0200  236.5500  357.9850   \n",
      "订单转化率   889.0    0.0029     0.0116  0.00    0.0000    0.0002    0.0020   \n",
      "投放总时间   889.0   16.0529     8.5094  1.00    9.0000   16.0000   24.0000   \n",
      "\n",
      "               max  \n",
      "日均UV    25294.7700  \n",
      "平均注册率       0.0391  \n",
      "平均搜索量       1.0370  \n",
      "访问深度       98.9799  \n",
      "平均停留时间   4450.8300  \n",
      "订单转化率       0.2165  \n",
      "投放总时间      30.0000  \n",
      "*************************缺失值：均值填充法**************************\n",
      "     渠道代号  日均UV  平均注册率  平均搜索量  访问深度  平均停留时间  订单转化率  投放总时间 素材类型 广告类型 合作方式  \\\n",
      "323  A347  1.53    0.0    0.0   1.0     NaN    0.0     26  swf  不确定  roi   \n",
      "354  A377  0.75    0.0    0.0   1.0     NaN    0.0     20  swf  不确定  roi   \n",
      "\n",
      "       广告尺寸 广告卖点  \n",
      "323  600*90   打折  \n",
      "354  600*90   打折  \n"
     ]
    }
   ],
   "source": [
    "import pandas as pd\n",
    "\n",
    "pd.set_option('display.max_columns',None)\n",
    "pd.set_option('display.max_rows',None)\n",
    "pd.set_option('max_colwidth',30)\n",
    "\n",
    "#获取数据\n",
    "data = pd.read_csv(\"ad_performance.csv\",index_col=0)\n",
    "\n",
    "# 对数据审查,是否有缺失值\n",
    "print('{:*^60}'.format('数据样本：统计描述'))\n",
    "print(data.describe().round(4).T)\n",
    "\n",
    "# 对缺失值的填充(均值)\n",
    "print('{:*^60}'.format('缺失值：均值填充法'))\n",
    "print(data[data.isna().values])\n",
    "data = data.fillna(data.mean)"
   ]
  }
 ],
 "metadata": {
  "kernelspec": {
   "display_name": "dd",
   "language": "python",
   "name": "python3"
  },
  "language_info": {
   "codemirror_mode": {
    "name": "ipython",
    "version": 3
   },
   "file_extension": ".py",
   "mimetype": "text/x-python",
   "name": "python",
   "nbconvert_exporter": "python",
   "pygments_lexer": "ipython3",
   "version": "3.9.17"
  },
  "orig_nbformat": 4
 },
 "nbformat": 4,
 "nbformat_minor": 2
}
