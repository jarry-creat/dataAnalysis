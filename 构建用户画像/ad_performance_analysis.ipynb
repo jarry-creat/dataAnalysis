{
 "cells": [
  {
   "cell_type": "code",
   "execution_count": 16,
   "metadata": {},
   "outputs": [
    {
     "name": "stdout",
     "output_type": "stream",
     "text": [
      "*************************数据样本：统计描述**************************\n",
      "        count      mean        std   min       25%       50%       75%  \\\n",
      "日均UV    889.0  540.8468  1634.4105  0.06    6.1800  114.1800  466.8700   \n",
      "平均注册率   889.0    0.0014     0.0033  0.00    0.0000    0.0000    0.0014   \n",
      "平均搜索量   889.0    0.0305     0.1062  0.00    0.0006    0.0032    0.0118   \n",
      "访问深度    889.0    2.1672     3.8005  1.00    1.3923    1.7931    2.2162   \n",
      "平均停留时间  887.0  262.6692   224.3649  1.64  126.0200  236.5500  357.9850   \n",
      "订单转化率   889.0    0.0029     0.0116  0.00    0.0000    0.0002    0.0020   \n",
      "投放总时间   889.0   16.0529     8.5094  1.00    9.0000   16.0000   24.0000   \n",
      "\n",
      "               max  \n",
      "日均UV    25294.7700  \n",
      "平均注册率       0.0391  \n",
      "平均搜索量       1.0370  \n",
      "访问深度       98.9799  \n",
      "平均停留时间   4450.8300  \n",
      "订单转化率       0.2165  \n",
      "投放总时间      30.0000  \n",
      "*************************缺失值：均值填充法**************************\n"
     ]
    }
   ],
   "source": [
    "import pandas as pd\n",
    "import numpy as np\n",
    "pd.set_option('display.max_columns',None)\n",
    "pd.set_option('display.max_rows',None)\n",
    "pd.set_option('max_colwidth',30)\n",
    "\n",
    "#获取数据\n",
    "data = pd.read_csv(\"ad_performance.csv\",index_col=0)\n",
    "\n",
    "# 对数据审查,是否有缺失值\n",
    "print('{:*^60}'.format('数据样本：统计描述'))\n",
    "print(data.describe().round(4).T)\n",
    "\n",
    "# 对缺失值的填充(均值)\n",
    "print('{:*^60}'.format('缺失值：均值填充法'))\n",
    "# print(data[data.isna().values])\n",
    "data = data.fillna(419.77)"
   ]
  },
  {
   "cell_type": "code",
   "execution_count": 17,
   "metadata": {},
   "outputs": [
    {
     "name": "stdout",
     "output_type": "stream",
     "text": [
      "**************************计算相关性：合并**************************\n",
      "          日均UV   平均注册率   平均搜索量    访问深度  平均停留时间   订单转化率   投放总时间\n",
      "日均UV    1.0000 -0.0512 -0.0735 -0.0217  0.0345 -0.0452 -0.0385\n",
      "平均注册率  -0.0512  1.0000  0.2381  0.1063  0.2195  0.3166 -0.0141\n",
      "平均搜索量  -0.0735  0.2381  1.0000  0.0631  0.1645  0.1259 -0.0268\n",
      "访问深度   -0.0217  0.1063  0.0631  1.0000  0.7237  0.1637  0.0575\n",
      "平均停留时间  0.0345  0.2195  0.1645  0.7237  1.0000  0.2525  0.0483\n",
      "订单转化率  -0.0452  0.3166  0.1259  0.1637  0.2525  1.0000 -0.0046\n",
      "投放总时间  -0.0385 -0.0141 -0.0268  0.0575  0.0483 -0.0046  1.0000\n"
     ]
    },
    {
     "name": "stderr",
     "output_type": "stream",
     "text": [
      "C:\\Users\\吕强\\AppData\\Local\\Temp\\ipykernel_17456\\3066185843.py:3: FutureWarning: The default value of numeric_only in DataFrame.corr is deprecated. In a future version, it will default to False. Select only valid columns or specify the value of numeric_only to silence this warning.\n",
      "  print(data.corr().round(4).T)\n"
     ]
    }
   ],
   "source": [
    "# 计算，合并:相关性\n",
    "print('{:*^60}'.format('计算相关性：合并'))\n",
    "print(data.corr().round(4).T)\n",
    "data = data.drop(['平均停留时间'], axis=1)"
   ]
  },
  {
   "cell_type": "code",
   "execution_count": 18,
   "metadata": {},
   "outputs": [
    {
     "name": "stdout",
     "output_type": "stream",
     "text": [
      "[[0.   0.18 0.02 0.01 0.12 0.66]\n",
      " [0.01 0.1  0.03 0.01 0.01 0.62]\n",
      " [0.   0.06 0.05 0.01 0.01 0.1 ]\n",
      " ...\n",
      " [0.01 0.01 0.   0.   0.   0.72]\n",
      " [0.05 0.   0.   0.   0.   0.31]\n",
      " [0.   0.   0.   0.53 0.   0.62]]\n"
     ]
    }
   ],
   "source": [
    "# 数据标准化：归一化Min-Max，0-1区间\n",
    "# SKLEAN-preprocessing-minmax\n",
    "from sklearn.preprocessing import MinMaxScaler\n",
    "matrix = data.iloc[:,1:7]\n",
    "min_max_model = MinMaxScaler()\n",
    "data_rescaled = min_max_model.fit_transform(matrix)\n",
    "print(data_rescaled.round(2))\n"
   ]
  },
  {
   "cell_type": "code",
   "execution_count": 19,
   "metadata": {},
   "outputs": [
    {
     "name": "stdout",
     "output_type": "stream",
     "text": [
      "  素材类型    广告类型 合作方式    广告尺寸 广告卖点\n",
      "0  jpg  banner  roi  140*40   打折\n",
      "1  jpg  banner  cpc  140*40   满减\n",
      "*************************特征数字化：独热编码*************************\n",
      "[[0. 1. 0. ... 0. 0. 0.]\n",
      " [0. 1. 0. ... 0. 0. 0.]\n",
      " [0. 1. 0. ... 0. 0. 0.]\n",
      " ...\n",
      " [0. 0. 0. ... 0. 0. 0.]\n",
      " [0. 0. 0. ... 0. 0. 0.]\n",
      " [1. 0. 0. ... 0. 1. 0.]]\n"
     ]
    },
    {
     "name": "stderr",
     "output_type": "stream",
     "text": [
      "d:\\anaconda\\envs\\dd\\lib\\site-packages\\sklearn\\preprocessing\\_encoders.py:972: FutureWarning: `sparse` was renamed to `sparse_output` in version 1.2 and will be removed in 1.4. `sparse_output` is ignored unless you leave `sparse` to its default value.\n",
      "  warnings.warn(\n"
     ]
    }
   ],
   "source": [
    "# 特征数字化：独热编码（One-Hot）\n",
    "from sklearn.preprocessing import OneHotEncoder\n",
    "print(data.iloc[:, 7:12].head(2))\n",
    "onehot_mode = OneHotEncoder(sparse=False)\n",
    "data_one = onehot_mode.fit_transform(data.iloc[:,7:12])\n",
    "print('{:*^60}'.format('特征数字化：独热编码'))\n",
    "print(data_one)"
   ]
  },
  {
   "cell_type": "code",
   "execution_count": 20,
   "metadata": {},
   "outputs": [
    {
     "name": "stdout",
     "output_type": "stream",
     "text": [
      "************************数据维度合并：12个字段************************\n"
     ]
    }
   ],
   "source": [
    "#数据合并\n",
    "print('{:*^60}'.format('数据维度合并：12个字段'))\n",
    "data_matrix = np.hstack((data_rescaled, data_one))"
   ]
  },
  {
   "cell_type": "code",
   "execution_count": null,
   "metadata": {},
   "outputs": [],
   "source": [
    "# KMeans建模：基于平均轮廓系数，找到最佳K值(2-10)\n",
    "# 关于K的取值范围：rfm用户价值(8),2-5\n",
    "from sklearn.cluster import KMeans  #聚类算法\n",
    "from sklearn.metrics import silhouette_score  # 用于评估度量的模块\n",
    "print('{:*^60}'.format('KMeans建模：基于平均轮廓系数'))\n",
    "score_list = []\n",
    "max_score = -1\n",
    "for k in range(2,6):# 2，3，4，5\n",
    "    kmeans_model = KMeans(n_clusters=k) #建模\n",
    "    kmeans_temp = kmeans_model.fit_predict(data_matrix)\n",
    "    # print(kmeans_temp)\n",
    "    score = silhouette_score(data_matrix,kmeans_temp)     # 得到每个K下的平均轮廓系数\n",
    "    # print(k,score)\n",
    "    # 获取最佳K值\n",
    "    if score > max_score: # 如果平均轮廓系数更高\n",
    "        max_score = score # 保存更高的系数值\n",
    "        best_k = k        # 保存最佳的k值\n",
    "        labels_temp = kmeans_temp  # 保存标签数据\n",
    "    score_list.append([k, score])\n",
    "print('{:*^60}'.format('所有的k值以及对应平均轮廓系数'))\n",
    "print(score_list)\n",
    "print('最佳K值：', best_k)"
   ]
  },
  {
   "cell_type": "code",
   "execution_count": null,
   "metadata": {},
   "outputs": [],
   "source": []
  }
 ],
 "metadata": {
  "kernelspec": {
   "display_name": "dd",
   "language": "python",
   "name": "python3"
  },
  "language_info": {
   "codemirror_mode": {
    "name": "ipython",
    "version": 3
   },
   "file_extension": ".py",
   "mimetype": "text/x-python",
   "name": "python",
   "nbconvert_exporter": "python",
   "pygments_lexer": "ipython3",
   "version": "3.9.17"
  },
  "orig_nbformat": 4
 },
 "nbformat": 4,
 "nbformat_minor": 2
}
