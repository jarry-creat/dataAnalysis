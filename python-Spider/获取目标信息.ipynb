{
 "cells": [
  {
   "cell_type": "code",
   "execution_count": 1,
   "metadata": {},
   "outputs": [
    {
     "name": "stdout",
     "output_type": "stream",
     "text": [
      "\n",
      "------------------------\n",
      "\n",
      "title : 楚门的世界 The Truman Show\n",
      "director : 彼得·威尔\n",
      "writer : 安德鲁·尼科尔\n",
      "actors : ['金·凯瑞', '劳拉·琳妮', '艾德·哈里斯', '诺亚·艾默里奇', '娜塔莎·麦克艾霍恩']\n",
      "genre : ['剧情', '科幻']\n",
      "language :  英语\n",
      "release_date : 1998-06-05(美国)\n",
      "runtime : 103分钟\n",
      "average : 9.4\n",
      "votes : 1721742\n"
     ]
    },
    {
     "name": "stderr",
     "output_type": "stream",
     "text": [
      "C:\\Users\\吕强\\AppData\\Local\\Temp\\ipykernel_6892\\3025421663.py:40: DeprecationWarning: The 'text' argument to find()-type methods is deprecated. Use 'string' instead.\n",
      "  movie_info['language'] = soup.find(text=\"语言:\").next_element  # 语言\n"
     ]
    }
   ],
   "source": [
    "import requests\n",
    "from bs4 import BeautifulSoup\n",
    "\n",
    "\n",
    "def get_list(soup_list):\n",
    "    \"\"\"\n",
    "    清洗解析后的网页信息，并以列表形式返回\n",
    "    :param soup_list:  bs_list\n",
    "    :return:  list\n",
    "    \"\"\"\n",
    "    list = []\n",
    "    for ele in soup_list:\n",
    "        list.append(ele.string)\n",
    "    return list\n",
    "\n",
    "\n",
    "# 访问网页、获取信息\n",
    "url_douban_movie = \"https://movie.douban.com/subject/1292064/\"\n",
    "headers = {'user-agent': 'my-app/0.0.1'}\n",
    "response = requests.get(url=url_douban_movie, headers=headers)\n",
    "# print(response.text)\n",
    "\n",
    "print(\"\\n------------------------\\n\")\n",
    "\n",
    "# 获取目标信息\n",
    "soup = BeautifulSoup(response.text, 'html.parser')\n",
    "# print(soup.prettify())\n",
    "\n",
    "# 存储容器，电影信息一览\n",
    "movie_info = {}\n",
    "\n",
    "# 电影名称\n",
    "movie_info['title'] = soup.find(property=\"v:itemreviewed\").string\n",
    "\n",
    "# 简介部分\n",
    "movie_info['director'] = soup.find(rel=\"v:directedBy\").string  # 导演\n",
    "movie_info['writer'] = soup.find_all(class_=\"attrs\")[1].string  # 编剧\n",
    "movie_info['actors'] = get_list(soup.find_all(rel=\"v:starring\"))  # 演员列表\n",
    "movie_info['genre'] = get_list(soup.find_all(property=\"v:genre\"))  # 类型\n",
    "movie_info['language'] = soup.find(text=\"语言:\").next_element  # 语言\n",
    "movie_info['release_date'] = soup.find(property=\"v:initialReleaseDate\").string  # 发行日\n",
    "movie_info['runtime'] = soup.find(property=\"v:runtime\").string  # 时长\n",
    "\n",
    "# 评分部分\n",
    "movie_info['average'] = soup.find(property=\"v:average\").string\n",
    "movie_info['votes'] = soup.find(property=\"v:votes\").string\n",
    "\n",
    "for key in movie_info:\n",
    "    print(key, \":\", movie_info.get(key))"
   ]
  }
 ],
 "metadata": {
  "kernelspec": {
   "display_name": "dd",
   "language": "python",
   "name": "python3"
  },
  "language_info": {
   "codemirror_mode": {
    "name": "ipython",
    "version": 3
   },
   "file_extension": ".py",
   "mimetype": "text/x-python",
   "name": "python",
   "nbconvert_exporter": "python",
   "pygments_lexer": "ipython3",
   "version": "3.9.17"
  },
  "orig_nbformat": 4
 },
 "nbformat": 4,
 "nbformat_minor": 2
}
