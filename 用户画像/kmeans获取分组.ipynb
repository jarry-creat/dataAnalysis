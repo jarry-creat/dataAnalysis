{
 "cells": [
  {
   "cell_type": "code",
   "execution_count": 12,
   "metadata": {},
   "outputs": [],
   "source": [
    "import pandas as pd\n",
    "from sklearn.cluster import KMeans"
   ]
  },
  {
   "cell_type": "code",
   "execution_count": 13,
   "metadata": {},
   "outputs": [],
   "source": [
    "# 获取数据\n",
    "data = pd.read_csv('sales_kmeans.csv')"
   ]
  },
  {
   "cell_type": "code",
   "execution_count": 15,
   "metadata": {},
   "outputs": [
    {
     "name": "stdout",
     "output_type": "stream",
     "text": [
      "R\n",
      "638.0813807905582\n",
      "790.58765212635\n",
      "714.0059198542817\n",
      "895.9703905128791\n",
      "F\n",
      "1.0616475612950047\n",
      "58.09230769230771\n",
      "14.688963210702342\n",
      "3.9067734887108547\n",
      "M\n",
      "369.5092072672635\n",
      "4536.366216736114\n",
      "68696.83723684211\n",
      "16337.323730512244\n"
     ]
    }
   ],
   "source": [
    "#利用Kmeans获取聚类中心\n",
    "kmodels = KMeans(n_clusters=4,n_init='auto')\n",
    "for col in data.columns:\n",
    "    kmodels.fit(data[[col]])\n",
    "    print(col)   #打印当前列的标签\n",
    "    centers = kmodels.cluster_centers_\n",
    "    for c in centers:\n",
    "        print(c[0])"
   ]
  }
 ],
 "metadata": {
  "kernelspec": {
   "display_name": "dd",
   "language": "python",
   "name": "python3"
  },
  "language_info": {
   "codemirror_mode": {
    "name": "ipython",
    "version": 3
   },
   "file_extension": ".py",
   "mimetype": "text/x-python",
   "name": "python",
   "nbconvert_exporter": "python",
   "pygments_lexer": "ipython3",
   "version": "3.9.17"
  },
  "orig_nbformat": 4
 },
 "nbformat": 4,
 "nbformat_minor": 2
}
