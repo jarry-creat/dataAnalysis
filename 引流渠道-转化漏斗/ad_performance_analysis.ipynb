{
 "cells": [
  {
   "cell_type": "code",
   "execution_count": 2,
   "metadata": {},
   "outputs": [],
   "source": [
    "import pandas as pd\n",
    "from sklearn.preprocessing import MinMaxScaler, OneHotEncoder  # 预处理\n",
    "from sklearn.cluster import KMeans  # 聚类算法\n",
    "from sklearn.metrics import silhouette_score  # 用于评估度量的模块\n",
    "import numpy as np\n",
    "import matplotlib.pyplot as plt"
   ]
  },
  {
   "cell_type": "code",
   "execution_count": 3,
   "metadata": {},
   "outputs": [],
   "source": [
    "pd.set_option('display.max_columns', None)\n",
    "pd.set_option('display.max_rows', None)\n",
    "pd.set_option('max_colwidth', 30)\n",
    "plt.rcParams['font.sans-serif'] = ['Arial Unicode MS']"
   ]
  },
  {
   "cell_type": "code",
   "execution_count": 4,
   "metadata": {},
   "outputs": [
    {
     "name": "stdout",
     "output_type": "stream",
     "text": [
      "   渠道代号    日均UV   平均注册率   平均搜索量    访问深度  平均停留时间   订单转化率  投放总时间 素材类型    广告类型  \\\n",
      "0  A203    3.69  0.0071  0.0214  2.3071  419.77  0.0258     20  jpg  banner   \n",
      "1  A387  178.70  0.0040  0.0324  2.0489  157.94  0.0030     19  jpg  banner   \n",
      "\n",
      "  合作方式    广告尺寸 广告卖点  \n",
      "0  roi  140*40   打折  \n",
      "1  cpc  140*40   满减  \n"
     ]
    }
   ],
   "source": [
    "# 获取到数据\n",
    "data = pd.read_csv(\"ad_performance.csv\", index_col=0)\n",
    "print(data.head(2))"
   ]
  },
  {
   "cell_type": "code",
   "execution_count": 5,
   "metadata": {},
   "outputs": [
    {
     "name": "stdout",
     "output_type": "stream",
     "text": [
      "*************************数据样本：统计描述**************************\n",
      "        count      mean        std   min       25%       50%       75%  \\\n",
      "日均UV    889.0  540.8468  1634.4105  0.06    6.1800  114.1800  466.8700   \n",
      "平均注册率   889.0    0.0014     0.0033  0.00    0.0000    0.0000    0.0014   \n",
      "平均搜索量   889.0    0.0305     0.1062  0.00    0.0006    0.0032    0.0118   \n",
      "访问深度    889.0    2.1672     3.8005  1.00    1.3923    1.7931    2.2162   \n",
      "平均停留时间  887.0  262.6692   224.3649  1.64  126.0200  236.5500  357.9850   \n",
      "订单转化率   889.0    0.0029     0.0116  0.00    0.0000    0.0002    0.0020   \n",
      "投放总时间   889.0   16.0529     8.5094  1.00    9.0000   16.0000   24.0000   \n",
      "\n",
      "               max  \n",
      "日均UV    25294.7700  \n",
      "平均注册率       0.0391  \n",
      "平均搜索量       1.0370  \n",
      "访问深度       98.9799  \n",
      "平均停留时间   4450.8300  \n",
      "订单转化率       0.2165  \n",
      "投放总时间      30.0000  \n"
     ]
    }
   ],
   "source": [
    "# 对数据进行审查：是否有缺失值\n",
    "print('{:*^60}'.format('数据样本：统计描述'))\n",
    "print(data.describe().round(4).T)"
   ]
  },
  {
   "cell_type": "code",
   "execution_count": 6,
   "metadata": {},
   "outputs": [
    {
     "name": "stdout",
     "output_type": "stream",
     "text": [
      "*************************缺失值：填充填充法**************************\n"
     ]
    }
   ],
   "source": [
    "# 对缺失值的填充（均值）\n",
    "print('{:*^60}'.format('缺失值：填充填充法'))\n",
    "# print(data[data.isna().values == True])\n",
    "# print(data.isna().values)\n",
    "# print(data['平均停留时间'].mean)\n",
    "data = data.fillna(419.77)"
   ]
  },
  {
   "cell_type": "code",
   "execution_count": 7,
   "metadata": {},
   "outputs": [
    {
     "name": "stdout",
     "output_type": "stream",
     "text": [
      "**************************计算相关性：合并**************************\n",
      "          日均UV   平均注册率   平均搜索量    访问深度  平均停留时间   订单转化率   投放总时间\n",
      "日均UV    1.0000 -0.0512 -0.0735 -0.0217  0.0345 -0.0452 -0.0385\n",
      "平均注册率  -0.0512  1.0000  0.2381  0.1063  0.2195  0.3166 -0.0141\n",
      "平均搜索量  -0.0735  0.2381  1.0000  0.0631  0.1645  0.1259 -0.0268\n",
      "访问深度   -0.0217  0.1063  0.0631  1.0000  0.7237  0.1637  0.0575\n",
      "平均停留时间  0.0345  0.2195  0.1645  0.7237  1.0000  0.2525  0.0483\n",
      "订单转化率  -0.0452  0.3166  0.1259  0.1637  0.2525  1.0000 -0.0046\n",
      "投放总时间  -0.0385 -0.0141 -0.0268  0.0575  0.0483 -0.0046  1.0000\n"
     ]
    },
    {
     "name": "stderr",
     "output_type": "stream",
     "text": [
      "C:\\Users\\吕强\\AppData\\Local\\Temp\\ipykernel_20976\\1032075326.py:3: FutureWarning: The default value of numeric_only in DataFrame.corr is deprecated. In a future version, it will default to False. Select only valid columns or specify the value of numeric_only to silence this warning.\n",
      "  print(data.corr().round(4).T)\n"
     ]
    }
   ],
   "source": [
    "# 计算、合并：相关性\n",
    "print('{:*^60}'.format('计算相关性：合并'))\n",
    "print(data.corr().round(4).T)\n",
    "# 生成相关性统计表格\n",
    "# pd.DataFrame(data.corr().round(4).T).to_excel('corr.xlsx')\n",
    "data = data.drop(['平均停留时间'], axis=1)\n",
    "# print(data.columns)\n"
   ]
  },
  {
   "cell_type": "code",
   "execution_count": 8,
   "metadata": {},
   "outputs": [
    {
     "name": "stdout",
     "output_type": "stream",
     "text": [
      "**********************数据标准化：归一化Min-Max**********************\n",
      "[[0.   0.18 0.02 0.01 0.12 0.66]\n",
      " [0.01 0.1  0.03 0.01 0.01 0.62]\n",
      " [0.   0.06 0.05 0.01 0.01 0.1 ]\n",
      " ...\n",
      " [0.01 0.01 0.   0.   0.   0.72]\n",
      " [0.05 0.   0.   0.   0.   0.31]\n",
      " [0.   0.   0.   0.53 0.   0.62]]\n"
     ]
    }
   ],
   "source": [
    "# 数据标准化：归一化Min-Max，0-1区间\n",
    "# SKLEAN-preprocessing-minmax\n",
    "matrix = data.iloc[:, 1:7]\n",
    "min_max_model = MinMaxScaler()\n",
    "data_rescaled = min_max_model.fit_transform(matrix)\n",
    "print('{:*^60}'.format('数据标准化：归一化Min-Max'))\n",
    "print(data_rescaled.round(2))"
   ]
  },
  {
   "cell_type": "code",
   "execution_count": 9,
   "metadata": {},
   "outputs": [
    {
     "name": "stdout",
     "output_type": "stream",
     "text": [
      "  素材类型    广告类型 合作方式    广告尺寸 广告卖点\n",
      "0  jpg  banner  roi  140*40   打折\n",
      "1  jpg  banner  cpc  140*40   满减\n",
      "*************************特征数字化：独热编码*************************\n",
      "[[0. 1. 0. ... 0. 0. 0.]\n",
      " [0. 1. 0. ... 0. 0. 0.]\n",
      " [0. 1. 0. ... 0. 0. 0.]\n",
      " ...\n",
      " [0. 0. 0. ... 0. 0. 0.]\n",
      " [0. 0. 0. ... 0. 0. 0.]\n",
      " [1. 0. 0. ... 0. 1. 0.]]\n"
     ]
    },
    {
     "name": "stderr",
     "output_type": "stream",
     "text": [
      "d:\\anaconda\\envs\\dd\\lib\\site-packages\\sklearn\\preprocessing\\_encoders.py:972: FutureWarning: `sparse` was renamed to `sparse_output` in version 1.2 and will be removed in 1.4. `sparse_output` is ignored unless you leave `sparse` to its default value.\n",
      "  warnings.warn(\n"
     ]
    }
   ],
   "source": [
    "# 特征数字化：独热编码（One-Hot）\n",
    "print(data.iloc[:, 7:12].head(2))\n",
    "onehot_mode = OneHotEncoder(sparse=False)\n",
    "data_ohe = onehot_mode.fit_transform(data.iloc[:, 7:12])\n",
    "print('{:*^60}'.format('特征数字化：独热编码'))\n",
    "print(data_ohe)"
   ]
  },
  {
   "cell_type": "code",
   "execution_count": 10,
   "metadata": {},
   "outputs": [
    {
     "name": "stdout",
     "output_type": "stream",
     "text": [
      "************************数据维度合并：12个字段************************\n"
     ]
    }
   ],
   "source": [
    "# 数据合并\n",
    "print('{:*^60}'.format('数据维度合并：12个字段'))\n",
    "data_matrix = np.hstack((data_rescaled, data_ohe))\n",
    "# print(data_matrix)\n",
    "# for i in data_matrix:\n",
    "#     print(i.round(2))\n"
   ]
  },
  {
   "cell_type": "code",
   "execution_count": 11,
   "metadata": {},
   "outputs": [
    {
     "name": "stdout",
     "output_type": "stream",
     "text": [
      "*********************KMeans建模：基于平均轮廓系数**********************\n"
     ]
    },
    {
     "name": "stderr",
     "output_type": "stream",
     "text": [
      "d:\\anaconda\\envs\\dd\\lib\\site-packages\\sklearn\\cluster\\_kmeans.py:1412: FutureWarning: The default value of `n_init` will change from 10 to 'auto' in 1.4. Set the value of `n_init` explicitly to suppress the warning\n",
      "  super()._check_params_vs_input(X, default_n_init=10)\n",
      "Exception in thread Thread-5:\n",
      "Traceback (most recent call last):\n",
      "  File \"d:\\anaconda\\envs\\dd\\lib\\threading.py\", line 980, in _bootstrap_inner\n",
      "    self.run()\n",
      "  File \"d:\\anaconda\\envs\\dd\\lib\\threading.py\", line 917, in run\n",
      "    self._target(*self._args, **self._kwargs)\n",
      "  File \"d:\\anaconda\\envs\\dd\\lib\\subprocess.py\", line 1495, in _readerthread\n",
      "    buffer.append(fh.read())\n",
      "  File \"d:\\anaconda\\envs\\dd\\lib\\codecs.py\", line 322, in decode\n",
      "    (result, consumed) = self._buffer_decode(data, self.errors, final)\n",
      "UnicodeDecodeError: 'utf-8' codec can't decode byte 0xc0 in position 24: invalid start byte\n",
      "d:\\anaconda\\envs\\dd\\lib\\site-packages\\joblib\\externals\\loky\\backend\\context.py:136: UserWarning: Could not find the number of physical cores for the following reason:\n",
      "'NoneType' object has no attribute 'splitlines'\n",
      "Returning the number of logical cores instead. You can silence this warning by setting LOKY_MAX_CPU_COUNT to the number of cores you want to use.\n",
      "  warnings.warn(\n",
      "  File \"d:\\anaconda\\envs\\dd\\lib\\site-packages\\joblib\\externals\\loky\\backend\\context.py\", line 262, in _count_physical_cores\n",
      "    cpu_info = cpu_info.stdout.splitlines()\n",
      "d:\\anaconda\\envs\\dd\\lib\\site-packages\\sklearn\\cluster\\_kmeans.py:1436: UserWarning: KMeans is known to have a memory leak on Windows with MKL, when there are less chunks than available threads. You can avoid it by setting the environment variable OMP_NUM_THREADS=4.\n",
      "  warnings.warn(\n",
      "d:\\anaconda\\envs\\dd\\lib\\site-packages\\sklearn\\cluster\\_kmeans.py:1412: FutureWarning: The default value of `n_init` will change from 10 to 'auto' in 1.4. Set the value of `n_init` explicitly to suppress the warning\n",
      "  super()._check_params_vs_input(X, default_n_init=10)\n",
      "d:\\anaconda\\envs\\dd\\lib\\site-packages\\sklearn\\cluster\\_kmeans.py:1436: UserWarning: KMeans is known to have a memory leak on Windows with MKL, when there are less chunks than available threads. You can avoid it by setting the environment variable OMP_NUM_THREADS=4.\n",
      "  warnings.warn(\n",
      "d:\\anaconda\\envs\\dd\\lib\\site-packages\\sklearn\\cluster\\_kmeans.py:1412: FutureWarning: The default value of `n_init` will change from 10 to 'auto' in 1.4. Set the value of `n_init` explicitly to suppress the warning\n",
      "  super()._check_params_vs_input(X, default_n_init=10)\n",
      "d:\\anaconda\\envs\\dd\\lib\\site-packages\\sklearn\\cluster\\_kmeans.py:1436: UserWarning: KMeans is known to have a memory leak on Windows with MKL, when there are less chunks than available threads. You can avoid it by setting the environment variable OMP_NUM_THREADS=4.\n",
      "  warnings.warn(\n"
     ]
    },
    {
     "name": "stdout",
     "output_type": "stream",
     "text": [
      "**********************所有的k值以及对应平均轮廓系数***********************\n",
      "[[2, 0.3865549293769709], [3, 0.4575788262257562], [4, 0.5020981194788053], [5, 0.49653988898338547]]\n",
      "最佳K值： 4\n"
     ]
    },
    {
     "name": "stderr",
     "output_type": "stream",
     "text": [
      "d:\\anaconda\\envs\\dd\\lib\\site-packages\\sklearn\\cluster\\_kmeans.py:1412: FutureWarning: The default value of `n_init` will change from 10 to 'auto' in 1.4. Set the value of `n_init` explicitly to suppress the warning\n",
      "  super()._check_params_vs_input(X, default_n_init=10)\n",
      "d:\\anaconda\\envs\\dd\\lib\\site-packages\\sklearn\\cluster\\_kmeans.py:1436: UserWarning: KMeans is known to have a memory leak on Windows with MKL, when there are less chunks than available threads. You can avoid it by setting the environment variable OMP_NUM_THREADS=4.\n",
      "  warnings.warn(\n"
     ]
    }
   ],
   "source": [
    "# KMeans建模：基于平均轮廓系数，找到最佳K值(2-10)\n",
    "# 关于K的取值范围：rfm用户价值(8),2-5\n",
    "print('{:*^60}'.format('KMeans建模：基于平均轮廓系数'))\n",
    "score_list = []\n",
    "max_score = -1\n",
    "for k in range(2, 6):  # 2，3，4，5\n",
    "    kmeans_model = KMeans(n_clusters=k)  # 建模\n",
    "    kmeans_temp = kmeans_model.fit_predict(data_matrix)  # 计算点距离\n",
    "    # print(kmeans_temp)\n",
    "    score = silhouette_score(data_matrix, kmeans_temp)  # 得到每个K下的平均轮廓系数\n",
    "    # 获取最佳k值\n",
    "    if score > max_score:  # 如果平均轮廓系数更高\n",
    "        max_score = score  # 保存更高的系数值\n",
    "        best_k = k  # 保存最佳的k值\n",
    "        labels_temp = kmeans_temp  # 保存标签数据\n",
    "    # print(k, score)\n",
    "    score_list.append([k, score])  # 存每一次的k值和对应的平均轮廓系数\n",
    "print('{:*^60}'.format('所有的k值以及对应平均轮廓系数'))\n",
    "print(score_list)\n",
    "print('最佳K值：', best_k)"
   ]
  },
  {
   "cell_type": "code",
   "execution_count": 13,
   "metadata": {},
   "outputs": [
    {
     "name": "stdout",
     "output_type": "stream",
     "text": [
      "***************************聚类结果分析***************************\n"
     ]
    }
   ],
   "source": [
    "# 聚类结果分析\n",
    "print('{:*^60}'.format('聚类结果分析'))\n",
    "# 1.合并数据与聚类标签\n",
    "cluster_labels = pd.DataFrame(labels_temp, columns=['clusters'])  # 将聚类标签转化为df\n",
    "merge_data = pd.concat((data, cluster_labels), axis=1)  # 整合原始数据与聚类标签\n",
    "# 2.各聚类下的样本量：select count(渠道标识） from table group by 聚类标签\n",
    "cluster_counts = pd.DataFrame(merge_data['渠道代号'].groupby(merge_data['clusters'])\n",
    "                              .count()).T.rename({'渠道代号': 'counts'})\n",
    "# 3.各聚类下的样本占比\n",
    "cluster_percents = (cluster_counts / len(data)).round(3).rename({'counts': 'percentage'})\n",
    "features = []\n",
    "for label in range(best_k):\n",
    "    label_data = merge_data[merge_data['clusters'] == label]\n",
    "\n",
    "    # 4.数值类特征的均值\n",
    "    p1_data = label_data.iloc[:, 1:7]  # 筛选出数值类特征\n",
    "    p1_des = p1_data.describe().round(3)  # 获取描述性统计信息\n",
    "    p1_mean = p1_des.iloc[1, :]  # 获取均值数据\n",
    "\n",
    "    # 5.字符类特征的众数\n",
    "    p2_data = label_data.iloc[:, 7:12]  # 筛选出字符类特征\n",
    "    p2_des = p2_data.describe()  # 获取描述性统计信息\n",
    "    p2_mode = p2_des.iloc[2, :]  # 获取频数最高的标签\n",
    "\n",
    "    # 横向拼接2类不同特征的数据\n",
    "    merge_line = pd.concat((p1_mean, p2_mode), axis=0)\n",
    "    # 纵向拼接4类簇的统计数据\n",
    "    features.append(merge_line)"
   ]
  },
  {
   "cell_type": "code",
   "execution_count": 14,
   "metadata": {},
   "outputs": [
    {
     "name": "stdout",
     "output_type": "stream",
     "text": [
      "***********************聚类结果分析：所有信息合并************************\n",
      "                   0        1        2        3\n",
      "counts            73      349      154      313\n",
      "percentage     0.082    0.393    0.173    0.352\n",
      "日均UV        1401.525  300.205  613.836  572.521\n",
      "平均注册率          0.001    0.001    0.003    0.001\n",
      "平均搜索量          0.033    0.016     0.02    0.051\n",
      "访问深度           1.727     2.27     2.19    2.145\n",
      "订单转化率          0.002    0.002    0.003    0.004\n",
      "投放总时间         15.603    15.35   15.682   17.125\n",
      "素材类型             swf      jpg      jpg      swf\n",
      "广告类型            tips       横幅   banner      不确定\n",
      "合作方式             cpm      cpc      cpc      roi\n",
      "广告尺寸         450*300   600*90  308*388   600*90\n",
      "广告卖点              打折       直降       满减       打折\n"
     ]
    }
   ],
   "source": [
    "# 6.数据合并与展示\n",
    "cluster_pd = pd.DataFrame(features).T\n",
    "print('{:*^60}'.format('聚类结果分析：所有信息合并'))\n",
    "all_cluster_pd = pd.concat((cluster_counts, cluster_percents, cluster_pd), axis=0)\n",
    "print(all_cluster_pd)\n",
    "# pd.DataFrame(all_cluster_pd).to_excel('聚类结果分析.xlsx')"
   ]
  },
  {
   "cell_type": "code",
   "execution_count": 15,
   "metadata": {},
   "outputs": [
    {
     "name": "stdout",
     "output_type": "stream",
     "text": [
      "**********************数值特征的对比分析：绘制雷达图***********************\n",
      "[[1.     0.     0.4857 0.     0.     0.1425]\n",
      " [0.     0.     0.     1.     0.     0.    ]\n",
      " [0.2848 1.     0.1143 0.8527 0.5    0.187 ]\n",
      " [0.2473 0.     1.     0.7698 1.     1.    ]]\n"
     ]
    }
   ],
   "source": [
    "# 数值特征的对比分析：绘制雷达图\n",
    "# 1.获取各簇/类/集群的数值特征均值、并且标准化（Max-Min归一化，0~1）\n",
    "print('{:*^60}'.format('数值特征的对比分析：绘制雷达图'))\n",
    "nums_data = cluster_pd.iloc[:6, :].T.astype(np.float64)  # 获取数据并转换为浮点数\n",
    "nums_min_max = min_max_model.fit_transform(nums_data)  # 获取标准化（归一化）后的数据\n",
    "print(nums_min_max.round(4))"
   ]
  },
  {
   "cell_type": "code",
   "execution_count": 16,
   "metadata": {},
   "outputs": [
    {
     "name": "stderr",
     "output_type": "stream",
     "text": [
      "findfont: Generic family 'sans-serif' not found because none of the following families were found: Arial Unicode MS\n",
      "findfont: Generic family 'sans-serif' not found because none of the following families were found: Arial Unicode MS\n",
      "findfont: Generic family 'sans-serif' not found because none of the following families were found: Arial Unicode MS\n",
      "findfont: Generic family 'sans-serif' not found because none of the following families were found: Arial Unicode MS\n",
      "findfont: Generic family 'sans-serif' not found because none of the following families were found: Arial Unicode MS\n",
      "findfont: Generic family 'sans-serif' not found because none of the following families were found: Arial Unicode MS\n",
      "findfont: Generic family 'sans-serif' not found because none of the following families were found: Arial Unicode MS\n",
      "findfont: Generic family 'sans-serif' not found because none of the following families were found: Arial Unicode MS\n",
      "findfont: Generic family 'sans-serif' not found because none of the following families were found: Arial Unicode MS\n",
      "findfont: Generic family 'sans-serif' not found because none of the following families were found: Arial Unicode MS\n",
      "findfont: Generic family 'sans-serif' not found because none of the following families were found: Arial Unicode MS\n",
      "findfont: Generic family 'sans-serif' not found because none of the following families were found: Arial Unicode MS\n",
      "findfont: Generic family 'sans-serif' not found because none of the following families were found: Arial Unicode MS\n",
      "findfont: Generic family 'sans-serif' not found because none of the following families were found: Arial Unicode MS\n",
      "findfont: Generic family 'sans-serif' not found because none of the following families were found: Arial Unicode MS\n",
      "findfont: Generic family 'sans-serif' not found because none of the following families were found: Arial Unicode MS\n",
      "findfont: Generic family 'sans-serif' not found because none of the following families were found: Arial Unicode MS\n",
      "findfont: Generic family 'sans-serif' not found because none of the following families were found: Arial Unicode MS\n",
      "findfont: Generic family 'sans-serif' not found because none of the following families were found: Arial Unicode MS\n",
      "findfont: Generic family 'sans-serif' not found because none of the following families were found: Arial Unicode MS\n",
      "findfont: Generic family 'sans-serif' not found because none of the following families were found: Arial Unicode MS\n",
      "findfont: Generic family 'sans-serif' not found because none of the following families were found: Arial Unicode MS\n",
      "findfont: Generic family 'sans-serif' not found because none of the following families were found: Arial Unicode MS\n",
      "findfont: Generic family 'sans-serif' not found because none of the following families were found: Arial Unicode MS\n",
      "findfont: Generic family 'sans-serif' not found because none of the following families were found: Arial Unicode MS\n",
      "findfont: Generic family 'sans-serif' not found because none of the following families were found: Arial Unicode MS\n",
      "findfont: Generic family 'sans-serif' not found because none of the following families were found: Arial Unicode MS\n",
      "findfont: Generic family 'sans-serif' not found because none of the following families were found: Arial Unicode MS\n",
      "findfont: Generic family 'sans-serif' not found because none of the following families were found: Arial Unicode MS\n",
      "findfont: Generic family 'sans-serif' not found because none of the following families were found: Arial Unicode MS\n",
      "findfont: Generic family 'sans-serif' not found because none of the following families were found: Arial Unicode MS\n",
      "findfont: Generic family 'sans-serif' not found because none of the following families were found: Arial Unicode MS\n",
      "findfont: Generic family 'sans-serif' not found because none of the following families were found: Arial Unicode MS\n",
      "findfont: Generic family 'sans-serif' not found because none of the following families were found: Arial Unicode MS\n",
      "findfont: Generic family 'sans-serif' not found because none of the following families were found: Arial Unicode MS\n",
      "findfont: Generic family 'sans-serif' not found because none of the following families were found: Arial Unicode MS\n",
      "findfont: Generic family 'sans-serif' not found because none of the following families were found: Arial Unicode MS\n",
      "findfont: Generic family 'sans-serif' not found because none of the following families were found: Arial Unicode MS\n",
      "findfont: Generic family 'sans-serif' not found because none of the following families were found: Arial Unicode MS\n",
      "findfont: Generic family 'sans-serif' not found because none of the following families were found: Arial Unicode MS\n",
      "findfont: Generic family 'sans-serif' not found because none of the following families were found: Arial Unicode MS\n",
      "findfont: Generic family 'sans-serif' not found because none of the following families were found: Arial Unicode MS\n",
      "findfont: Generic family 'sans-serif' not found because none of the following families were found: Arial Unicode MS\n",
      "findfont: Generic family 'sans-serif' not found because none of the following families were found: Arial Unicode MS\n",
      "findfont: Generic family 'sans-serif' not found because none of the following families were found: Arial Unicode MS\n",
      "findfont: Generic family 'sans-serif' not found because none of the following families were found: Arial Unicode MS\n",
      "findfont: Generic family 'sans-serif' not found because none of the following families were found: Arial Unicode MS\n",
      "findfont: Generic family 'sans-serif' not found because none of the following families were found: Arial Unicode MS\n",
      "findfont: Generic family 'sans-serif' not found because none of the following families were found: Arial Unicode MS\n",
      "findfont: Generic family 'sans-serif' not found because none of the following families were found: Arial Unicode MS\n",
      "findfont: Generic family 'sans-serif' not found because none of the following families were found: Arial Unicode MS\n",
      "findfont: Generic family 'sans-serif' not found because none of the following families were found: Arial Unicode MS\n",
      "findfont: Generic family 'sans-serif' not found because none of the following families were found: Arial Unicode MS\n",
      "findfont: Generic family 'sans-serif' not found because none of the following families were found: Arial Unicode MS\n"
     ]
    },
    {
     "data": {
      "image/png": "[encoded data removed]",
      "text/plain": [
       "<Figure size 640x480 with 1 Axes>"
      ]
     },
     "metadata": {},
     "output_type": "display_data"
    }
   ],
   "source": [
    "# 2.绘制画布、准备数据：x轴角度、y轴数据、类别对应颜色\n",
    "fig = plt.figure()  # 创建一个画布\n",
    "ax = fig.add_subplot(111, polar=True)  # 创建子网格：正中央、极坐标系\n",
    "angles = np.linspace(0, 2 * np.pi, 6, endpoint=False)  # 计算角度\n",
    "angles = np.concatenate((angles, [angles[0]]))  # 完成了对于x轴的设置,并且最后一个值=第一个值，以闭合图形\n",
    "colors = ['b', 'y', 'r', 'g']\n",
    "labels = p1_data.columns.tolist()"
   ]
  },
  {
   "cell_type": "code",
   "execution_count": 17,
   "metadata": {},
   "outputs": [],
   "source": [
    "# 3.绘制各簇对应的点线图\n",
    "# y轴的设置：0 1 2 3\n",
    "for i in range(len(nums_min_max)):\n",
    "    temp_list = nums_min_max[i]  # 获得对应簇数值特征数据\n",
    "    temp = np.concatenate((temp_list, [temp_list[0]]))  # 完成闭合\n",
    "    ax.plot(angles, temp, 'o-', color=colors[i], label=i)\n"
   ]
  },
  {
   "cell_type": "code",
   "execution_count": null,
   "metadata": {},
   "outputs": [],
   "source": [
    "# 4.添加说明标签、显示雷达图\n",
    "ax.set_thetagrids(angles * 180 / np.pi, labels)  # 设置极坐标\n",
    "ax.set_rlim(-0.2, 1.2)  # 设置半径刻度\n",
    "plt.title(\"数值特征对比分析\")  # 设置标题\n",
    "plt.legend()  # 类说明标签\n",
    "plt.show()"
   ]
  }
 ],
 "metadata": {
  "kernelspec": {
   "display_name": "dd",
   "language": "python",
   "name": "python3"
  },
  "language_info": {
   "codemirror_mode": {
    "name": "ipython",
    "version": 3
   },
   "file_extension": ".py",
   "mimetype": "text/x-python",
   "name": "python",
   "nbconvert_exporter": "python",
   "pygments_lexer": "ipython3",
   "version": "3.9.17"
  },
  "orig_nbformat": 4
 },
 "nbformat": 4,
 "nbformat_minor": 2
}
