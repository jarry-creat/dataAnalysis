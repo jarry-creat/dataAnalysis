{
 "cells": [
  {
   "cell_type": "code",
   "execution_count": 1,
   "metadata": {},
   "outputs": [],
   "source": [
    "import pandas as pd\n",
    "import matplotlib.pyplot as plt\n",
    "import seaborn as sns"
   ]
  },
  {
   "cell_type": "markdown",
   "metadata": {},
   "source": [
    "The dataset contains information collected from an online food ordering platform over a period of time. It encompasses various attributes related to Occupation, Family Size, Feedback ."
   ]
  },
  {
   "cell_type": "markdown",
   "metadata": {},
   "source": [
    "Purpose:\n",
    "This dataset can be utilized to explore the relationship between demographic/location factors and online food ordering behavior, analyze customer feedback to improve service quality, and potentially predict customer preferences or behavior based on demographic and location attributes."
   ]
  },
  {
   "cell_type": "code",
   "execution_count": 4,
   "metadata": {},
   "outputs": [
    {
     "data": {
      "text/html": [
       "<div>\n",
       "<style scoped>\n",
       "    .dataframe tbody tr th:only-of-type {\n",
       "        vertical-align: middle;\n",
       "    }\n",
       "\n",
       "    .dataframe tbody tr th {\n",
       "        vertical-align: top;\n",
       "    }\n",
       "\n",
       "    .dataframe thead th {\n",
       "        text-align: right;\n",
       "    }\n",
       "</style>\n",
       "<table border=\"1\" class=\"dataframe\">\n",
       "  <thead>\n",
       "    <tr style=\"text-align: right;\">\n",
       "      <th></th>\n",
       "      <th>Age</th>\n",
       "      <th>Gender</th>\n",
       "      <th>Marital Status</th>\n",
       "      <th>Occupation</th>\n",
       "      <th>Monthly Income</th>\n",
       "      <th>Educational Qualifications</th>\n",
       "      <th>Family size</th>\n",
       "      <th>latitude</th>\n",
       "      <th>longitude</th>\n",
       "      <th>Pin code</th>\n",
       "      <th>Output</th>\n",
       "      <th>Feedback</th>\n",
       "      <th>Unnamed: 12</th>\n",
       "    </tr>\n",
       "  </thead>\n",
       "  <tbody>\n",
       "    <tr>\n",
       "      <th>0</th>\n",
       "      <td>20</td>\n",
       "      <td>Female</td>\n",
       "      <td>Single</td>\n",
       "      <td>Student</td>\n",
       "      <td>No Income</td>\n",
       "      <td>Post Graduate</td>\n",
       "      <td>4</td>\n",
       "      <td>12.9766</td>\n",
       "      <td>77.5993</td>\n",
       "      <td>560001</td>\n",
       "      <td>Yes</td>\n",
       "      <td>Positive</td>\n",
       "      <td>Yes</td>\n",
       "    </tr>\n",
       "    <tr>\n",
       "      <th>1</th>\n",
       "      <td>24</td>\n",
       "      <td>Female</td>\n",
       "      <td>Single</td>\n",
       "      <td>Student</td>\n",
       "      <td>Below Rs.10000</td>\n",
       "      <td>Graduate</td>\n",
       "      <td>3</td>\n",
       "      <td>12.9770</td>\n",
       "      <td>77.5773</td>\n",
       "      <td>560009</td>\n",
       "      <td>Yes</td>\n",
       "      <td>Positive</td>\n",
       "      <td>Yes</td>\n",
       "    </tr>\n",
       "    <tr>\n",
       "      <th>2</th>\n",
       "      <td>22</td>\n",
       "      <td>Male</td>\n",
       "      <td>Single</td>\n",
       "      <td>Student</td>\n",
       "      <td>Below Rs.10000</td>\n",
       "      <td>Post Graduate</td>\n",
       "      <td>3</td>\n",
       "      <td>12.9551</td>\n",
       "      <td>77.6593</td>\n",
       "      <td>560017</td>\n",
       "      <td>Yes</td>\n",
       "      <td>Negative</td>\n",
       "      <td>Yes</td>\n",
       "    </tr>\n",
       "    <tr>\n",
       "      <th>3</th>\n",
       "      <td>22</td>\n",
       "      <td>Female</td>\n",
       "      <td>Single</td>\n",
       "      <td>Student</td>\n",
       "      <td>No Income</td>\n",
       "      <td>Graduate</td>\n",
       "      <td>6</td>\n",
       "      <td>12.9473</td>\n",
       "      <td>77.5616</td>\n",
       "      <td>560019</td>\n",
       "      <td>Yes</td>\n",
       "      <td>Positive</td>\n",
       "      <td>Yes</td>\n",
       "    </tr>\n",
       "    <tr>\n",
       "      <th>4</th>\n",
       "      <td>22</td>\n",
       "      <td>Male</td>\n",
       "      <td>Single</td>\n",
       "      <td>Student</td>\n",
       "      <td>Below Rs.10000</td>\n",
       "      <td>Post Graduate</td>\n",
       "      <td>4</td>\n",
       "      <td>12.9850</td>\n",
       "      <td>77.5533</td>\n",
       "      <td>560010</td>\n",
       "      <td>Yes</td>\n",
       "      <td>Positive</td>\n",
       "      <td>Yes</td>\n",
       "    </tr>\n",
       "  </tbody>\n",
       "</table>\n",
       "</div>"
      ],
      "text/plain": [
       "   Age  Gender Marital Status Occupation  Monthly Income  \\\n",
       "0   20  Female         Single    Student       No Income   \n",
       "1   24  Female         Single    Student  Below Rs.10000   \n",
       "2   22    Male         Single    Student  Below Rs.10000   \n",
       "3   22  Female         Single    Student       No Income   \n",
       "4   22    Male         Single    Student  Below Rs.10000   \n",
       "\n",
       "  Educational Qualifications  Family size  latitude  longitude  Pin code  \\\n",
       "0              Post Graduate            4   12.9766    77.5993    560001   \n",
       "1                   Graduate            3   12.9770    77.5773    560009   \n",
       "2              Post Graduate            3   12.9551    77.6593    560017   \n",
       "3                   Graduate            6   12.9473    77.5616    560019   \n",
       "4              Post Graduate            4   12.9850    77.5533    560010   \n",
       "\n",
       "  Output   Feedback Unnamed: 12  \n",
       "0    Yes   Positive         Yes  \n",
       "1    Yes   Positive         Yes  \n",
       "2    Yes  Negative          Yes  \n",
       "3    Yes   Positive         Yes  \n",
       "4    Yes   Positive         Yes  "
      ]
     },
     "execution_count": 4,
     "metadata": {},
     "output_type": "execute_result"
    }
   ],
   "source": [
    "df = pd.read_csv('./onlinefoods.csv')\n",
    "df.head()"
   ]
  },
  {
   "cell_type": "code",
   "execution_count": 5,
   "metadata": {},
   "outputs": [],
   "source": [
    "df.drop(columns='Unnamed: 12',inplace=True)"
   ]
  },
  {
   "cell_type": "code",
   "execution_count": 6,
   "metadata": {},
   "outputs": [
    {
     "data": {
      "text/html": [
       "<div>\n",
       "<style scoped>\n",
       "    .dataframe tbody tr th:only-of-type {\n",
       "        vertical-align: middle;\n",
       "    }\n",
       "\n",
       "    .dataframe tbody tr th {\n",
       "        vertical-align: top;\n",
       "    }\n",
       "\n",
       "    .dataframe thead th {\n",
       "        text-align: right;\n",
       "    }\n",
       "</style>\n",
       "<table border=\"1\" class=\"dataframe\">\n",
       "  <thead>\n",
       "    <tr style=\"text-align: right;\">\n",
       "      <th></th>\n",
       "      <th>Age</th>\n",
       "      <th>Gender</th>\n",
       "      <th>Marital Status</th>\n",
       "      <th>Occupation</th>\n",
       "      <th>Monthly Income</th>\n",
       "      <th>Educational Qualifications</th>\n",
       "      <th>Family size</th>\n",
       "      <th>latitude</th>\n",
       "      <th>longitude</th>\n",
       "      <th>Pin code</th>\n",
       "      <th>Output</th>\n",
       "      <th>Feedback</th>\n",
       "    </tr>\n",
       "  </thead>\n",
       "  <tbody>\n",
       "    <tr>\n",
       "      <th>0</th>\n",
       "      <td>20</td>\n",
       "      <td>Female</td>\n",
       "      <td>Single</td>\n",
       "      <td>Student</td>\n",
       "      <td>No Income</td>\n",
       "      <td>Post Graduate</td>\n",
       "      <td>4</td>\n",
       "      <td>12.9766</td>\n",
       "      <td>77.5993</td>\n",
       "      <td>560001</td>\n",
       "      <td>Yes</td>\n",
       "      <td>Positive</td>\n",
       "    </tr>\n",
       "    <tr>\n",
       "      <th>1</th>\n",
       "      <td>24</td>\n",
       "      <td>Female</td>\n",
       "      <td>Single</td>\n",
       "      <td>Student</td>\n",
       "      <td>Below Rs.10000</td>\n",
       "      <td>Graduate</td>\n",
       "      <td>3</td>\n",
       "      <td>12.9770</td>\n",
       "      <td>77.5773</td>\n",
       "      <td>560009</td>\n",
       "      <td>Yes</td>\n",
       "      <td>Positive</td>\n",
       "    </tr>\n",
       "    <tr>\n",
       "      <th>2</th>\n",
       "      <td>22</td>\n",
       "      <td>Male</td>\n",
       "      <td>Single</td>\n",
       "      <td>Student</td>\n",
       "      <td>Below Rs.10000</td>\n",
       "      <td>Post Graduate</td>\n",
       "      <td>3</td>\n",
       "      <td>12.9551</td>\n",
       "      <td>77.6593</td>\n",
       "      <td>560017</td>\n",
       "      <td>Yes</td>\n",
       "      <td>Negative</td>\n",
       "    </tr>\n",
       "    <tr>\n",
       "      <th>3</th>\n",
       "      <td>22</td>\n",
       "      <td>Female</td>\n",
       "      <td>Single</td>\n",
       "      <td>Student</td>\n",
       "      <td>No Income</td>\n",
       "      <td>Graduate</td>\n",
       "      <td>6</td>\n",
       "      <td>12.9473</td>\n",
       "      <td>77.5616</td>\n",
       "      <td>560019</td>\n",
       "      <td>Yes</td>\n",
       "      <td>Positive</td>\n",
       "    </tr>\n",
       "    <tr>\n",
       "      <th>4</th>\n",
       "      <td>22</td>\n",
       "      <td>Male</td>\n",
       "      <td>Single</td>\n",
       "      <td>Student</td>\n",
       "      <td>Below Rs.10000</td>\n",
       "      <td>Post Graduate</td>\n",
       "      <td>4</td>\n",
       "      <td>12.9850</td>\n",
       "      <td>77.5533</td>\n",
       "      <td>560010</td>\n",
       "      <td>Yes</td>\n",
       "      <td>Positive</td>\n",
       "    </tr>\n",
       "  </tbody>\n",
       "</table>\n",
       "</div>"
      ],
      "text/plain": [
       "   Age  Gender Marital Status Occupation  Monthly Income  \\\n",
       "0   20  Female         Single    Student       No Income   \n",
       "1   24  Female         Single    Student  Below Rs.10000   \n",
       "2   22    Male         Single    Student  Below Rs.10000   \n",
       "3   22  Female         Single    Student       No Income   \n",
       "4   22    Male         Single    Student  Below Rs.10000   \n",
       "\n",
       "  Educational Qualifications  Family size  latitude  longitude  Pin code  \\\n",
       "0              Post Graduate            4   12.9766    77.5993    560001   \n",
       "1                   Graduate            3   12.9770    77.5773    560009   \n",
       "2              Post Graduate            3   12.9551    77.6593    560017   \n",
       "3                   Graduate            6   12.9473    77.5616    560019   \n",
       "4              Post Graduate            4   12.9850    77.5533    560010   \n",
       "\n",
       "  Output   Feedback  \n",
       "0    Yes   Positive  \n",
       "1    Yes   Positive  \n",
       "2    Yes  Negative   \n",
       "3    Yes   Positive  \n",
       "4    Yes   Positive  "
      ]
     },
     "execution_count": 6,
     "metadata": {},
     "output_type": "execute_result"
    }
   ],
   "source": [
    "df.head()"
   ]
  },
  {
   "cell_type": "code",
   "execution_count": 7,
   "metadata": {},
   "outputs": [
    {
     "data": {
      "text/plain": [
       "(388, 12)"
      ]
     },
     "execution_count": 7,
     "metadata": {},
     "output_type": "execute_result"
    }
   ],
   "source": [
    "df.shape"
   ]
  },
  {
   "cell_type": "code",
   "execution_count": 8,
   "metadata": {},
   "outputs": [
    {
     "data": {
      "text/html": [
       "<div>\n",
       "<style scoped>\n",
       "    .dataframe tbody tr th:only-of-type {\n",
       "        vertical-align: middle;\n",
       "    }\n",
       "\n",
       "    .dataframe tbody tr th {\n",
       "        vertical-align: top;\n",
       "    }\n",
       "\n",
       "    .dataframe thead th {\n",
       "        text-align: right;\n",
       "    }\n",
       "</style>\n",
       "<table border=\"1\" class=\"dataframe\">\n",
       "  <thead>\n",
       "    <tr style=\"text-align: right;\">\n",
       "      <th></th>\n",
       "      <th>Age</th>\n",
       "      <th>Family size</th>\n",
       "      <th>latitude</th>\n",
       "      <th>longitude</th>\n",
       "      <th>Pin code</th>\n",
       "    </tr>\n",
       "  </thead>\n",
       "  <tbody>\n",
       "    <tr>\n",
       "      <th>count</th>\n",
       "      <td>388.000000</td>\n",
       "      <td>388.000000</td>\n",
       "      <td>388.000000</td>\n",
       "      <td>388.000000</td>\n",
       "      <td>388.000000</td>\n",
       "    </tr>\n",
       "    <tr>\n",
       "      <th>mean</th>\n",
       "      <td>24.628866</td>\n",
       "      <td>3.280928</td>\n",
       "      <td>12.972058</td>\n",
       "      <td>77.600160</td>\n",
       "      <td>560040.113402</td>\n",
       "    </tr>\n",
       "    <tr>\n",
       "      <th>std</th>\n",
       "      <td>2.975593</td>\n",
       "      <td>1.351025</td>\n",
       "      <td>0.044489</td>\n",
       "      <td>0.051354</td>\n",
       "      <td>31.399609</td>\n",
       "    </tr>\n",
       "    <tr>\n",
       "      <th>min</th>\n",
       "      <td>18.000000</td>\n",
       "      <td>1.000000</td>\n",
       "      <td>12.865200</td>\n",
       "      <td>77.484200</td>\n",
       "      <td>560001.000000</td>\n",
       "    </tr>\n",
       "    <tr>\n",
       "      <th>25%</th>\n",
       "      <td>23.000000</td>\n",
       "      <td>2.000000</td>\n",
       "      <td>12.936900</td>\n",
       "      <td>77.565275</td>\n",
       "      <td>560010.750000</td>\n",
       "    </tr>\n",
       "    <tr>\n",
       "      <th>50%</th>\n",
       "      <td>24.000000</td>\n",
       "      <td>3.000000</td>\n",
       "      <td>12.977000</td>\n",
       "      <td>77.592100</td>\n",
       "      <td>560033.500000</td>\n",
       "    </tr>\n",
       "    <tr>\n",
       "      <th>75%</th>\n",
       "      <td>26.000000</td>\n",
       "      <td>4.000000</td>\n",
       "      <td>12.997025</td>\n",
       "      <td>77.630900</td>\n",
       "      <td>560068.000000</td>\n",
       "    </tr>\n",
       "    <tr>\n",
       "      <th>max</th>\n",
       "      <td>33.000000</td>\n",
       "      <td>6.000000</td>\n",
       "      <td>13.102000</td>\n",
       "      <td>77.758200</td>\n",
       "      <td>560109.000000</td>\n",
       "    </tr>\n",
       "  </tbody>\n",
       "</table>\n",
       "</div>"
      ],
      "text/plain": [
       "              Age  Family size    latitude   longitude       Pin code\n",
       "count  388.000000   388.000000  388.000000  388.000000     388.000000\n",
       "mean    24.628866     3.280928   12.972058   77.600160  560040.113402\n",
       "std      2.975593     1.351025    0.044489    0.051354      31.399609\n",
       "min     18.000000     1.000000   12.865200   77.484200  560001.000000\n",
       "25%     23.000000     2.000000   12.936900   77.565275  560010.750000\n",
       "50%     24.000000     3.000000   12.977000   77.592100  560033.500000\n",
       "75%     26.000000     4.000000   12.997025   77.630900  560068.000000\n",
       "max     33.000000     6.000000   13.102000   77.758200  560109.000000"
      ]
     },
     "execution_count": 8,
     "metadata": {},
     "output_type": "execute_result"
    }
   ],
   "source": [
    "df.describe()"
   ]
  },
  {
   "cell_type": "code",
   "execution_count": 9,
   "metadata": {},
   "outputs": [
    {
     "data": {
      "text/plain": [
       "Index(['Age', 'Gender', 'Marital Status', 'Occupation', 'Monthly Income',\n",
       "       'Educational Qualifications', 'Family size', 'latitude', 'longitude',\n",
       "       'Pin code', 'Output', 'Feedback'],\n",
       "      dtype='object')"
      ]
     },
     "execution_count": 9,
     "metadata": {},
     "output_type": "execute_result"
    }
   ],
   "source": [
    "df.columns"
   ]
  },
  {
   "cell_type": "code",
   "execution_count": 17,
   "metadata": {},
   "outputs": [
    {
     "data": {
      "image/png": "[encoded data removed]",
      "text/plain": [
       "<Figure size 640x480 with 1 Axes>"
      ]
     },
     "metadata": {},
     "output_type": "display_data"
    }
   ],
   "source": [
    "# 1.Market Segmentation Analysis\n",
    "# What is the distribution of individuals across different age groups?¶\n",
    "age_counts = df['Age'].value_counts().sort_index()\n",
    "plt.bar(age_counts.index,age_counts.values,color='green',edgecolor='black')\n",
    "plt.title('Distribution of Ages',fontsize = 16)\n",
    "plt.xlabel('Age',fontsize=12)\n",
    "plt.ylabel('Count',fontsize=12)\n",
    "\n",
    "plt.tight_layout()\n",
    "plt.gcf().patch.set_facecolor('skyblue')\n",
    "plt.gca().set_facecolor('yellow')\n",
    "plt.show()"
   ]
  },
  {
   "cell_type": "code",
   "execution_count": 18,
   "metadata": {},
   "outputs": [
    {
     "name": "stdout",
     "output_type": "stream",
     "text": [
      "Chi-square statistic: 55.917538967818274\n",
      "p-value: 2.927091109293357e-09\n",
      "Degrees of freedom: 8\n",
      "Expected frequencies table:\n",
      "[[4.92680412e+01 6.40206186e+00 4.84329897e+01 3.34020619e+00\n",
      "  5.56701031e-01]\n",
      " [5.47422680e+00 7.11340206e-01 5.38144330e+00 3.71134021e-01\n",
      "  6.18556701e-02]\n",
      " [1.22257732e+02 1.58865979e+01 1.20185567e+02 8.28865979e+00\n",
      "  1.38144330e+00]]\n"
     ]
    }
   ],
   "source": [
    "# How does marital status correlate with educational qualifications?\n",
    "from scipy.stats import chi2_contingency\n",
    "\n",
    "contingency_table = pd.crosstab(df['Marital Status'], df['Educational Qualifications'])\n",
    "\n",
    "chi2, p, dof, expected = chi2_contingency(contingency_table)\n",
    "\n",
    "print(\"Chi-square statistic:\", chi2)\n",
    "print(\"p-value:\", p)\n",
    "print(\"Degrees of freedom:\", dof)\n",
    "print(\"Expected frequencies table:\")\n",
    "print(expected)"
   ]
  },
  {
   "cell_type": "code",
   "execution_count": 19,
   "metadata": {},
   "outputs": [
    {
     "data": {
      "text/plain": [
       "0     10001 to 25000\n",
       "1     25001 to 50000\n",
       "2     Below Rs.10000\n",
       "3    More than 50000\n",
       "4          No Income\n",
       "Name: 0, dtype: object"
      ]
     },
     "execution_count": 19,
     "metadata": {},
     "output_type": "execute_result"
    }
   ],
   "source": [
    "# 2. Customer Behavior Analysis\n",
    "# How does marital status affect monthly income?\n",
    "pd.DataFrame(df.groupby('Monthly Income'))[0]"
   ]
  },
  {
   "cell_type": "code",
   "execution_count": 20,
   "metadata": {},
   "outputs": [],
   "source": [
    "df.loc[df['Monthly Income'] == '10001 to 25000', 'Monthly Income'] = 17500\n",
    "df.loc[df['Monthly Income'] == '25001 to 50000', 'Monthly Income'] = 37500\n",
    "df.loc[df['Monthly Income'] == 'Below Rs.10000', 'Monthly Income'] = 10000\n",
    "df.loc[df['Monthly Income'] == 'More than 50000', 'Monthly Income'] = 50000\n",
    "df.loc[df['Monthly Income'] == 'No Income', 'Monthly Income'] = 0"
   ]
  },
  {
   "cell_type": "code",
   "execution_count": 21,
   "metadata": {},
   "outputs": [],
   "source": [
    "df['Monthly Income'] = df['Monthly Income'].astype(int)"
   ]
  },
  {
   "cell_type": "code",
   "execution_count": 22,
   "metadata": {},
   "outputs": [
    {
     "data": {
      "text/html": [
       "<div>\n",
       "<style scoped>\n",
       "    .dataframe tbody tr th:only-of-type {\n",
       "        vertical-align: middle;\n",
       "    }\n",
       "\n",
       "    .dataframe tbody tr th {\n",
       "        vertical-align: top;\n",
       "    }\n",
       "\n",
       "    .dataframe thead th {\n",
       "        text-align: right;\n",
       "    }\n",
       "</style>\n",
       "<table border=\"1\" class=\"dataframe\">\n",
       "  <thead>\n",
       "    <tr style=\"text-align: right;\">\n",
       "      <th></th>\n",
       "      <th>Monthly Income</th>\n",
       "    </tr>\n",
       "    <tr>\n",
       "      <th>Marital Status</th>\n",
       "      <th></th>\n",
       "    </tr>\n",
       "  </thead>\n",
       "  <tbody>\n",
       "    <tr>\n",
       "      <th>Married</th>\n",
       "      <td>34884.259259</td>\n",
       "    </tr>\n",
       "    <tr>\n",
       "      <th>Prefer not to say</th>\n",
       "      <td>30625.000000</td>\n",
       "    </tr>\n",
       "    <tr>\n",
       "      <th>Single</th>\n",
       "      <td>9664.179104</td>\n",
       "    </tr>\n",
       "  </tbody>\n",
       "</table>\n",
       "</div>"
      ],
      "text/plain": [
       "                   Monthly Income\n",
       "Marital Status                   \n",
       "Married              34884.259259\n",
       "Prefer not to say    30625.000000\n",
       "Single                9664.179104"
      ]
     },
     "execution_count": 22,
     "metadata": {},
     "output_type": "execute_result"
    }
   ],
   "source": [
    "pd.DataFrame(df.groupby('Marital Status')['Monthly Income'].mean().sort_values(ascending=False))"
   ]
  },
  {
   "cell_type": "code",
   "execution_count": 25,
   "metadata": {},
   "outputs": [
    {
     "data": {
      "image/png": "[encoded data removed]",
      "text/plain": [
       "<Figure size 600x400 with 1 Axes>"
      ]
     },
     "metadata": {},
     "output_type": "display_data"
    }
   ],
   "source": [
    "# Do students have any significant spending patterns or preferences compared to other occupation groups?\n",
    "income_pattern = df.groupby('Occupation')['Monthly Income'].mean()\n",
    "plt.figure(figsize=(6,4))\n",
    "plt.bar(income_pattern.index, income_pattern.values, color='lightpink', edgecolor='black')\n",
    "plt.title('Income Patterns')\n",
    "plt.xlabel('Occupation')\n",
    "plt.ylabel('Income')\n",
    "plt.tight_layout()\n",
    "plt.xticks(rotation=45)\n",
    "plt.gcf().patch.set_facecolor('lightgreen')\n",
    "plt.gca().set_facecolor('lightblue')\n",
    "plt.show()"
   ]
  },
  {
   "cell_type": "code",
   "execution_count": 26,
   "metadata": {},
   "outputs": [
    {
     "data": {
      "text/html": [
       "<div>\n",
       "<style scoped>\n",
       "    .dataframe tbody tr th:only-of-type {\n",
       "        vertical-align: middle;\n",
       "    }\n",
       "\n",
       "    .dataframe tbody tr th {\n",
       "        vertical-align: top;\n",
       "    }\n",
       "\n",
       "    .dataframe thead th {\n",
       "        text-align: right;\n",
       "    }\n",
       "</style>\n",
       "<table border=\"1\" class=\"dataframe\">\n",
       "  <thead>\n",
       "    <tr style=\"text-align: right;\">\n",
       "      <th></th>\n",
       "      <th>Age</th>\n",
       "      <th>Gender</th>\n",
       "      <th>Marital Status</th>\n",
       "      <th>Occupation</th>\n",
       "      <th>Monthly Income</th>\n",
       "      <th>Educational Qualifications</th>\n",
       "      <th>Family size</th>\n",
       "      <th>latitude</th>\n",
       "      <th>longitude</th>\n",
       "      <th>Pin code</th>\n",
       "      <th>Output</th>\n",
       "      <th>Feedback</th>\n",
       "    </tr>\n",
       "  </thead>\n",
       "  <tbody>\n",
       "    <tr>\n",
       "      <th>0</th>\n",
       "      <td>20</td>\n",
       "      <td>Female</td>\n",
       "      <td>Single</td>\n",
       "      <td>Student</td>\n",
       "      <td>0</td>\n",
       "      <td>Post Graduate</td>\n",
       "      <td>4</td>\n",
       "      <td>12.9766</td>\n",
       "      <td>77.5993</td>\n",
       "      <td>560001</td>\n",
       "      <td>Yes</td>\n",
       "      <td>Positive</td>\n",
       "    </tr>\n",
       "    <tr>\n",
       "      <th>1</th>\n",
       "      <td>24</td>\n",
       "      <td>Female</td>\n",
       "      <td>Single</td>\n",
       "      <td>Student</td>\n",
       "      <td>10000</td>\n",
       "      <td>Graduate</td>\n",
       "      <td>3</td>\n",
       "      <td>12.9770</td>\n",
       "      <td>77.5773</td>\n",
       "      <td>560009</td>\n",
       "      <td>Yes</td>\n",
       "      <td>Positive</td>\n",
       "    </tr>\n",
       "    <tr>\n",
       "      <th>2</th>\n",
       "      <td>22</td>\n",
       "      <td>Male</td>\n",
       "      <td>Single</td>\n",
       "      <td>Student</td>\n",
       "      <td>10000</td>\n",
       "      <td>Post Graduate</td>\n",
       "      <td>3</td>\n",
       "      <td>12.9551</td>\n",
       "      <td>77.6593</td>\n",
       "      <td>560017</td>\n",
       "      <td>Yes</td>\n",
       "      <td>Negative</td>\n",
       "    </tr>\n",
       "    <tr>\n",
       "      <th>3</th>\n",
       "      <td>22</td>\n",
       "      <td>Female</td>\n",
       "      <td>Single</td>\n",
       "      <td>Student</td>\n",
       "      <td>0</td>\n",
       "      <td>Graduate</td>\n",
       "      <td>6</td>\n",
       "      <td>12.9473</td>\n",
       "      <td>77.5616</td>\n",
       "      <td>560019</td>\n",
       "      <td>Yes</td>\n",
       "      <td>Positive</td>\n",
       "    </tr>\n",
       "    <tr>\n",
       "      <th>4</th>\n",
       "      <td>22</td>\n",
       "      <td>Male</td>\n",
       "      <td>Single</td>\n",
       "      <td>Student</td>\n",
       "      <td>10000</td>\n",
       "      <td>Post Graduate</td>\n",
       "      <td>4</td>\n",
       "      <td>12.9850</td>\n",
       "      <td>77.5533</td>\n",
       "      <td>560010</td>\n",
       "      <td>Yes</td>\n",
       "      <td>Positive</td>\n",
       "    </tr>\n",
       "  </tbody>\n",
       "</table>\n",
       "</div>"
      ],
      "text/plain": [
       "   Age  Gender Marital Status Occupation  Monthly Income  \\\n",
       "0   20  Female         Single    Student               0   \n",
       "1   24  Female         Single    Student           10000   \n",
       "2   22    Male         Single    Student           10000   \n",
       "3   22  Female         Single    Student               0   \n",
       "4   22    Male         Single    Student           10000   \n",
       "\n",
       "  Educational Qualifications  Family size  latitude  longitude  Pin code  \\\n",
       "0              Post Graduate            4   12.9766    77.5993    560001   \n",
       "1                   Graduate            3   12.9770    77.5773    560009   \n",
       "2              Post Graduate            3   12.9551    77.6593    560017   \n",
       "3                   Graduate            6   12.9473    77.5616    560019   \n",
       "4              Post Graduate            4   12.9850    77.5533    560010   \n",
       "\n",
       "  Output   Feedback  \n",
       "0    Yes   Positive  \n",
       "1    Yes   Positive  \n",
       "2    Yes  Negative   \n",
       "3    Yes   Positive  \n",
       "4    Yes   Positive  "
      ]
     },
     "execution_count": 26,
     "metadata": {},
     "output_type": "execute_result"
    }
   ],
   "source": [
    "# Predictive Analysis\n",
    "df.head()"
   ]
  },
  {
   "cell_type": "code",
   "execution_count": 27,
   "metadata": {},
   "outputs": [],
   "source": [
    "from sklearn.impute import SimpleImputer\n",
    "from sklearn.preprocessing import OrdinalEncoder, OneHotEncoder\n",
    "from sklearn.compose import ColumnTransformer\n",
    "from sklearn.linear_model import LinearRegression\n",
    "from sklearn.pipeline import Pipeline, make_pipeline\n",
    "from sklearn.model_selection import train_test_split\n",
    "from sklearn.metrics import mean_absolute_error, mean_squared_error, r2_score"
   ]
  },
  {
   "cell_type": "code",
   "execution_count": 28,
   "metadata": {},
   "outputs": [],
   "source": [
    "X_train, X_test, y_train, y_test = train_test_split(df.drop(columns='Monthly Income'), df['Monthly Income'], test_size=0.2, random_state=42)"
   ]
  },
  {
   "cell_type": "code",
   "execution_count": 29,
   "metadata": {},
   "outputs": [
    {
     "data": {
      "text/html": [
       "<div>\n",
       "<style scoped>\n",
       "    .dataframe tbody tr th:only-of-type {\n",
       "        vertical-align: middle;\n",
       "    }\n",
       "\n",
       "    .dataframe tbody tr th {\n",
       "        vertical-align: top;\n",
       "    }\n",
       "\n",
       "    .dataframe thead th {\n",
       "        text-align: right;\n",
       "    }\n",
       "</style>\n",
       "<table border=\"1\" class=\"dataframe\">\n",
       "  <thead>\n",
       "    <tr style=\"text-align: right;\">\n",
       "      <th></th>\n",
       "      <th>Age</th>\n",
       "      <th>Gender</th>\n",
       "      <th>Marital Status</th>\n",
       "      <th>Occupation</th>\n",
       "      <th>Educational Qualifications</th>\n",
       "      <th>Family size</th>\n",
       "      <th>latitude</th>\n",
       "      <th>longitude</th>\n",
       "      <th>Pin code</th>\n",
       "      <th>Output</th>\n",
       "      <th>Feedback</th>\n",
       "    </tr>\n",
       "  </thead>\n",
       "  <tbody>\n",
       "    <tr>\n",
       "      <th>63</th>\n",
       "      <td>23</td>\n",
       "      <td>Male</td>\n",
       "      <td>Single</td>\n",
       "      <td>Student</td>\n",
       "      <td>Graduate</td>\n",
       "      <td>4</td>\n",
       "      <td>12.9343</td>\n",
       "      <td>77.6044</td>\n",
       "      <td>560029</td>\n",
       "      <td>Yes</td>\n",
       "      <td>Positive</td>\n",
       "    </tr>\n",
       "    <tr>\n",
       "      <th>238</th>\n",
       "      <td>27</td>\n",
       "      <td>Male</td>\n",
       "      <td>Married</td>\n",
       "      <td>Employee</td>\n",
       "      <td>Graduate</td>\n",
       "      <td>2</td>\n",
       "      <td>12.8845</td>\n",
       "      <td>77.6036</td>\n",
       "      <td>560076</td>\n",
       "      <td>Yes</td>\n",
       "      <td>Positive</td>\n",
       "    </tr>\n",
       "    <tr>\n",
       "      <th>132</th>\n",
       "      <td>23</td>\n",
       "      <td>Male</td>\n",
       "      <td>Single</td>\n",
       "      <td>Student</td>\n",
       "      <td>Post Graduate</td>\n",
       "      <td>2</td>\n",
       "      <td>13.0019</td>\n",
       "      <td>77.5713</td>\n",
       "      <td>560003</td>\n",
       "      <td>Yes</td>\n",
       "      <td>Positive</td>\n",
       "    </tr>\n",
       "    <tr>\n",
       "      <th>101</th>\n",
       "      <td>23</td>\n",
       "      <td>Male</td>\n",
       "      <td>Single</td>\n",
       "      <td>Student</td>\n",
       "      <td>Post Graduate</td>\n",
       "      <td>2</td>\n",
       "      <td>12.9442</td>\n",
       "      <td>77.6076</td>\n",
       "      <td>560030</td>\n",
       "      <td>Yes</td>\n",
       "      <td>Positive</td>\n",
       "    </tr>\n",
       "    <tr>\n",
       "      <th>351</th>\n",
       "      <td>25</td>\n",
       "      <td>Male</td>\n",
       "      <td>Single</td>\n",
       "      <td>Self Employeed</td>\n",
       "      <td>Graduate</td>\n",
       "      <td>2</td>\n",
       "      <td>12.9783</td>\n",
       "      <td>77.6408</td>\n",
       "      <td>560038</td>\n",
       "      <td>Yes</td>\n",
       "      <td>Positive</td>\n",
       "    </tr>\n",
       "  </tbody>\n",
       "</table>\n",
       "</div>"
      ],
      "text/plain": [
       "     Age Gender Marital Status      Occupation Educational Qualifications  \\\n",
       "63    23   Male         Single         Student                   Graduate   \n",
       "238   27   Male        Married        Employee                   Graduate   \n",
       "132   23   Male         Single         Student              Post Graduate   \n",
       "101   23   Male         Single         Student              Post Graduate   \n",
       "351   25   Male         Single  Self Employeed                   Graduate   \n",
       "\n",
       "     Family size  latitude  longitude  Pin code Output  Feedback  \n",
       "63             4   12.9343    77.6044    560029    Yes  Positive  \n",
       "238            2   12.8845    77.6036    560076    Yes  Positive  \n",
       "132            2   13.0019    77.5713    560003    Yes  Positive  \n",
       "101            2   12.9442    77.6076    560030    Yes  Positive  \n",
       "351            2   12.9783    77.6408    560038    Yes  Positive  "
      ]
     },
     "execution_count": 29,
     "metadata": {},
     "output_type": "execute_result"
    }
   ],
   "source": [
    "pd.DataFrame(X_train).head()"
   ]
  },
  {
   "cell_type": "code",
   "execution_count": 30,
   "metadata": {},
   "outputs": [
    {
     "data": {
      "text/plain": [
       "(310, 11)"
      ]
     },
     "execution_count": 30,
     "metadata": {},
     "output_type": "execute_result"
    }
   ],
   "source": [
    "X_train.shape"
   ]
  },
  {
   "cell_type": "code",
   "execution_count": 31,
   "metadata": {},
   "outputs": [],
   "source": [
    "numerical_columns = [0, 5, 6, 7, 8]\n",
    "cat_nominal = [1, 2, 3]\n",
    "cat_ordinal = [5, 9, 10]"
   ]
  },
  {
   "cell_type": "code",
   "execution_count": 32,
   "metadata": {},
   "outputs": [],
   "source": [
    "handle_numerical = Pipeline(steps=[\n",
    "    ('impute', SimpleImputer(strategy='mean'))\n",
    "])"
   ]
  },
  {
   "cell_type": "code",
   "execution_count": 33,
   "metadata": {},
   "outputs": [],
   "source": [
    "handle_nominal = Pipeline(steps=[\n",
    "    ('impute', SimpleImputer(strategy='most_frequent')),\n",
    "    ('encode', OneHotEncoder(drop='first'))\n",
    "])"
   ]
  },
  {
   "cell_type": "code",
   "execution_count": 34,
   "metadata": {},
   "outputs": [],
   "source": [
    "handle_ordinal = Pipeline(steps=[\n",
    "    ('impute', SimpleImputer(strategy='most_frequent')),\n",
    "    ('encode', OrdinalEncoder())\n",
    "])"
   ]
  },
  {
   "cell_type": "code",
   "execution_count": 35,
   "metadata": {},
   "outputs": [],
   "source": [
    "preprocessing = ColumnTransformer(transformers=[\n",
    "    ('numerical', handle_numerical, numerical_columns),\n",
    "    ('nominal', handle_nominal, cat_nominal),\n",
    "    ('ordinal', handle_ordinal, cat_ordinal)\n",
    "])"
   ]
  },
  {
   "cell_type": "code",
   "execution_count": 36,
   "metadata": {},
   "outputs": [],
   "source": [
    "model = LinearRegression()"
   ]
  },
  {
   "cell_type": "code",
   "execution_count": 37,
   "metadata": {},
   "outputs": [],
   "source": [
    "pipe = make_pipeline(preprocessing, model)"
   ]
  },
  {
   "cell_type": "code",
   "execution_count": 38,
   "metadata": {},
   "outputs": [
    {
     "data": {
      "text/html": [
       "<style>#sk-container-id-1 {color: black;}#sk-container-id-1 pre{padding: 0;}#sk-container-id-1 div.sk-toggleable {background-color: white;}#sk-container-id-1 label.sk-toggleable__label {cursor: pointer;display: block;width: 100%;margin-bottom: 0;padding: 0.3em;box-sizing: border-box;text-align: center;}#sk-container-id-1 label.sk-toggleable__label-arrow:before {content: \"▸\";float: left;margin-right: 0.25em;color: #696969;}#sk-container-id-1 label.sk-toggleable__label-arrow:hover:before {color: black;}#sk-container-id-1 div.sk-estimator:hover label.sk-toggleable__label-arrow:before {color: black;}#sk-container-id-1 div.sk-toggleable__content {max-height: 0;max-width: 0;overflow: hidden;text-align: left;background-color: #f0f8ff;}#sk-container-id-1 div.sk-toggleable__content pre {margin: 0.2em;color: black;border-radius: 0.25em;background-color: #f0f8ff;}#sk-container-id-1 input.sk-toggleable__control:checked~div.sk-toggleable__content {max-height: 200px;max-width: 100%;overflow: auto;}#sk-container-id-1 input.sk-toggleable__control:checked~label.sk-toggleable__label-arrow:before {content: \"▾\";}#sk-container-id-1 div.sk-estimator input.sk-toggleable__control:checked~label.sk-toggleable__label {background-color: #d4ebff;}#sk-container-id-1 div.sk-label input.sk-toggleable__control:checked~label.sk-toggleable__label {background-color: #d4ebff;}#sk-container-id-1 input.sk-hidden--visually {border: 0;clip: rect(1px 1px 1px 1px);clip: rect(1px, 1px, 1px, 1px);height: 1px;margin: -1px;overflow: hidden;padding: 0;position: absolute;width: 1px;}#sk-container-id-1 div.sk-estimator {font-family: monospace;background-color: #f0f8ff;border: 1px dotted black;border-radius: 0.25em;box-sizing: border-box;margin-bottom: 0.5em;}#sk-container-id-1 div.sk-estimator:hover {background-color: #d4ebff;}#sk-container-id-1 div.sk-parallel-item::after {content: \"\";width: 100%;border-bottom: 1px solid gray;flex-grow: 1;}#sk-container-id-1 div.sk-label:hover label.sk-toggleable__label {background-color: #d4ebff;}#sk-container-id-1 div.sk-serial::before {content: \"\";position: absolute;border-left: 1px solid gray;box-sizing: border-box;top: 0;bottom: 0;left: 50%;z-index: 0;}#sk-container-id-1 div.sk-serial {display: flex;flex-direction: column;align-items: center;background-color: white;padding-right: 0.2em;padding-left: 0.2em;position: relative;}#sk-container-id-1 div.sk-item {position: relative;z-index: 1;}#sk-container-id-1 div.sk-parallel {display: flex;align-items: stretch;justify-content: center;background-color: white;position: relative;}#sk-container-id-1 div.sk-item::before, #sk-container-id-1 div.sk-parallel-item::before {content: \"\";position: absolute;border-left: 1px solid gray;box-sizing: border-box;top: 0;bottom: 0;left: 50%;z-index: -1;}#sk-container-id-1 div.sk-parallel-item {display: flex;flex-direction: column;z-index: 1;position: relative;background-color: white;}#sk-container-id-1 div.sk-parallel-item:first-child::after {align-self: flex-end;width: 50%;}#sk-container-id-1 div.sk-parallel-item:last-child::after {align-self: flex-start;width: 50%;}#sk-container-id-1 div.sk-parallel-item:only-child::after {width: 0;}#sk-container-id-1 div.sk-dashed-wrapped {border: 1px dashed gray;margin: 0 0.4em 0.5em 0.4em;box-sizing: border-box;padding-bottom: 0.4em;background-color: white;}#sk-container-id-1 div.sk-label label {font-family: monospace;font-weight: bold;display: inline-block;line-height: 1.2em;}#sk-container-id-1 div.sk-label-container {text-align: center;}#sk-container-id-1 div.sk-container {/* jupyter's `normalize.less` sets `[hidden] { display: none; }` but bootstrap.min.css set `[hidden] { display: none !important; }` so we also need the `!important` here to be able to override the default hidden behavior on the sphinx rendered scikit-learn.org. See: https://github.com/scikit-learn/scikit-learn/issues/21755 */display: inline-block !important;position: relative;}#sk-container-id-1 div.sk-text-repr-fallback {display: none;}</style><div id=\"sk-container-id-1\" class=\"sk-top-container\"><div class=\"sk-text-repr-fallback\"><pre>Pipeline(steps=[(&#x27;columntransformer&#x27;,\n",
       "                 ColumnTransformer(transformers=[(&#x27;numerical&#x27;,\n",
       "                                                  Pipeline(steps=[(&#x27;impute&#x27;,\n",
       "                                                                   SimpleImputer())]),\n",
       "                                                  [0, 5, 6, 7, 8]),\n",
       "                                                 (&#x27;nominal&#x27;,\n",
       "                                                  Pipeline(steps=[(&#x27;impute&#x27;,\n",
       "                                                                   SimpleImputer(strategy=&#x27;most_frequent&#x27;)),\n",
       "                                                                  (&#x27;encode&#x27;,\n",
       "                                                                   OneHotEncoder(drop=&#x27;first&#x27;))]),\n",
       "                                                  [1, 2, 3]),\n",
       "                                                 (&#x27;ordinal&#x27;,\n",
       "                                                  Pipeline(steps=[(&#x27;impute&#x27;,\n",
       "                                                                   SimpleImputer(strategy=&#x27;most_frequent&#x27;)),\n",
       "                                                                  (&#x27;encode&#x27;,\n",
       "                                                                   OrdinalEncoder())]),\n",
       "                                                  [5, 9, 10])])),\n",
       "                (&#x27;linearregression&#x27;, LinearRegression())])</pre><b>In a Jupyter environment, please rerun this cell to show the HTML representation or trust the notebook. <br />On GitHub, the HTML representation is unable to render, please try loading this page with nbviewer.org.</b></div><div class=\"sk-container\" hidden><div class=\"sk-item sk-dashed-wrapped\"><div class=\"sk-label-container\"><div class=\"sk-label sk-toggleable\"><input class=\"sk-toggleable__control sk-hidden--visually\" id=\"sk-estimator-id-1\" type=\"checkbox\" ><label for=\"sk-estimator-id-1\" class=\"sk-toggleable__label sk-toggleable__label-arrow\">Pipeline</label><div class=\"sk-toggleable__content\"><pre>Pipeline(steps=[(&#x27;columntransformer&#x27;,\n",
       "                 ColumnTransformer(transformers=[(&#x27;numerical&#x27;,\n",
       "                                                  Pipeline(steps=[(&#x27;impute&#x27;,\n",
       "                                                                   SimpleImputer())]),\n",
       "                                                  [0, 5, 6, 7, 8]),\n",
       "                                                 (&#x27;nominal&#x27;,\n",
       "                                                  Pipeline(steps=[(&#x27;impute&#x27;,\n",
       "                                                                   SimpleImputer(strategy=&#x27;most_frequent&#x27;)),\n",
       "                                                                  (&#x27;encode&#x27;,\n",
       "                                                                   OneHotEncoder(drop=&#x27;first&#x27;))]),\n",
       "                                                  [1, 2, 3]),\n",
       "                                                 (&#x27;ordinal&#x27;,\n",
       "                                                  Pipeline(steps=[(&#x27;impute&#x27;,\n",
       "                                                                   SimpleImputer(strategy=&#x27;most_frequent&#x27;)),\n",
       "                                                                  (&#x27;encode&#x27;,\n",
       "                                                                   OrdinalEncoder())]),\n",
       "                                                  [5, 9, 10])])),\n",
       "                (&#x27;linearregression&#x27;, LinearRegression())])</pre></div></div></div><div class=\"sk-serial\"><div class=\"sk-item sk-dashed-wrapped\"><div class=\"sk-label-container\"><div class=\"sk-label sk-toggleable\"><input class=\"sk-toggleable__control sk-hidden--visually\" id=\"sk-estimator-id-2\" type=\"checkbox\" ><label for=\"sk-estimator-id-2\" class=\"sk-toggleable__label sk-toggleable__label-arrow\">columntransformer: ColumnTransformer</label><div class=\"sk-toggleable__content\"><pre>ColumnTransformer(transformers=[(&#x27;numerical&#x27;,\n",
       "                                 Pipeline(steps=[(&#x27;impute&#x27;, SimpleImputer())]),\n",
       "                                 [0, 5, 6, 7, 8]),\n",
       "                                (&#x27;nominal&#x27;,\n",
       "                                 Pipeline(steps=[(&#x27;impute&#x27;,\n",
       "                                                  SimpleImputer(strategy=&#x27;most_frequent&#x27;)),\n",
       "                                                 (&#x27;encode&#x27;,\n",
       "                                                  OneHotEncoder(drop=&#x27;first&#x27;))]),\n",
       "                                 [1, 2, 3]),\n",
       "                                (&#x27;ordinal&#x27;,\n",
       "                                 Pipeline(steps=[(&#x27;impute&#x27;,\n",
       "                                                  SimpleImputer(strategy=&#x27;most_frequent&#x27;)),\n",
       "                                                 (&#x27;encode&#x27;, OrdinalEncoder())]),\n",
       "                                 [5, 9, 10])])</pre></div></div></div><div class=\"sk-parallel\"><div class=\"sk-parallel-item\"><div class=\"sk-item\"><div class=\"sk-label-container\"><div class=\"sk-label sk-toggleable\"><input class=\"sk-toggleable__control sk-hidden--visually\" id=\"sk-estimator-id-3\" type=\"checkbox\" ><label for=\"sk-estimator-id-3\" class=\"sk-toggleable__label sk-toggleable__label-arrow\">numerical</label><div class=\"sk-toggleable__content\"><pre>[0, 5, 6, 7, 8]</pre></div></div></div><div class=\"sk-serial\"><div class=\"sk-item\"><div class=\"sk-serial\"><div class=\"sk-item\"><div class=\"sk-estimator sk-toggleable\"><input class=\"sk-toggleable__control sk-hidden--visually\" id=\"sk-estimator-id-4\" type=\"checkbox\" ><label for=\"sk-estimator-id-4\" class=\"sk-toggleable__label sk-toggleable__label-arrow\">SimpleImputer</label><div class=\"sk-toggleable__content\"><pre>SimpleImputer()</pre></div></div></div></div></div></div></div></div><div class=\"sk-parallel-item\"><div class=\"sk-item\"><div class=\"sk-label-container\"><div class=\"sk-label sk-toggleable\"><input class=\"sk-toggleable__control sk-hidden--visually\" id=\"sk-estimator-id-5\" type=\"checkbox\" ><label for=\"sk-estimator-id-5\" class=\"sk-toggleable__label sk-toggleable__label-arrow\">nominal</label><div class=\"sk-toggleable__content\"><pre>[1, 2, 3]</pre></div></div></div><div class=\"sk-serial\"><div class=\"sk-item\"><div class=\"sk-serial\"><div class=\"sk-item\"><div class=\"sk-estimator sk-toggleable\"><input class=\"sk-toggleable__control sk-hidden--visually\" id=\"sk-estimator-id-6\" type=\"checkbox\" ><label for=\"sk-estimator-id-6\" class=\"sk-toggleable__label sk-toggleable__label-arrow\">SimpleImputer</label><div class=\"sk-toggleable__content\"><pre>SimpleImputer(strategy=&#x27;most_frequent&#x27;)</pre></div></div></div><div class=\"sk-item\"><div class=\"sk-estimator sk-toggleable\"><input class=\"sk-toggleable__control sk-hidden--visually\" id=\"sk-estimator-id-7\" type=\"checkbox\" ><label for=\"sk-estimator-id-7\" class=\"sk-toggleable__label sk-toggleable__label-arrow\">OneHotEncoder</label><div class=\"sk-toggleable__content\"><pre>OneHotEncoder(drop=&#x27;first&#x27;)</pre></div></div></div></div></div></div></div></div><div class=\"sk-parallel-item\"><div class=\"sk-item\"><div class=\"sk-label-container\"><div class=\"sk-label sk-toggleable\"><input class=\"sk-toggleable__control sk-hidden--visually\" id=\"sk-estimator-id-8\" type=\"checkbox\" ><label for=\"sk-estimator-id-8\" class=\"sk-toggleable__label sk-toggleable__label-arrow\">ordinal</label><div class=\"sk-toggleable__content\"><pre>[5, 9, 10]</pre></div></div></div><div class=\"sk-serial\"><div class=\"sk-item\"><div class=\"sk-serial\"><div class=\"sk-item\"><div class=\"sk-estimator sk-toggleable\"><input class=\"sk-toggleable__control sk-hidden--visually\" id=\"sk-estimator-id-9\" type=\"checkbox\" ><label for=\"sk-estimator-id-9\" class=\"sk-toggleable__label sk-toggleable__label-arrow\">SimpleImputer</label><div class=\"sk-toggleable__content\"><pre>SimpleImputer(strategy=&#x27;most_frequent&#x27;)</pre></div></div></div><div class=\"sk-item\"><div class=\"sk-estimator sk-toggleable\"><input class=\"sk-toggleable__control sk-hidden--visually\" id=\"sk-estimator-id-10\" type=\"checkbox\" ><label for=\"sk-estimator-id-10\" class=\"sk-toggleable__label sk-toggleable__label-arrow\">OrdinalEncoder</label><div class=\"sk-toggleable__content\"><pre>OrdinalEncoder()</pre></div></div></div></div></div></div></div></div></div></div><div class=\"sk-item\"><div class=\"sk-estimator sk-toggleable\"><input class=\"sk-toggleable__control sk-hidden--visually\" id=\"sk-estimator-id-11\" type=\"checkbox\" ><label for=\"sk-estimator-id-11\" class=\"sk-toggleable__label sk-toggleable__label-arrow\">LinearRegression</label><div class=\"sk-toggleable__content\"><pre>LinearRegression()</pre></div></div></div></div></div></div></div>"
      ],
      "text/plain": [
       "Pipeline(steps=[('columntransformer',\n",
       "                 ColumnTransformer(transformers=[('numerical',\n",
       "                                                  Pipeline(steps=[('impute',\n",
       "                                                                   SimpleImputer())]),\n",
       "                                                  [0, 5, 6, 7, 8]),\n",
       "                                                 ('nominal',\n",
       "                                                  Pipeline(steps=[('impute',\n",
       "                                                                   SimpleImputer(strategy='most_frequent')),\n",
       "                                                                  ('encode',\n",
       "                                                                   OneHotEncoder(drop='first'))]),\n",
       "                                                  [1, 2, 3]),\n",
       "                                                 ('ordinal',\n",
       "                                                  Pipeline(steps=[('impute',\n",
       "                                                                   SimpleImputer(strategy='most_frequent')),\n",
       "                                                                  ('encode',\n",
       "                                                                   OrdinalEncoder())]),\n",
       "                                                  [5, 9, 10])])),\n",
       "                ('linearregression', LinearRegression())])"
      ]
     },
     "execution_count": 38,
     "metadata": {},
     "output_type": "execute_result"
    }
   ],
   "source": [
    "pipe.fit(X_train, y_train)"
   ]
  },
  {
   "cell_type": "code",
   "execution_count": 39,
   "metadata": {},
   "outputs": [],
   "source": [
    "y_pred = pipe.predict(X_test)"
   ]
  },
  {
   "cell_type": "code",
   "execution_count": 41,
   "metadata": {},
   "outputs": [
    {
     "name": "stdout",
     "output_type": "stream",
     "text": [
      "Mean Absolute Error (MAE): 6679.056589923972\n",
      "Mean Squared Error (MSE): 86780623.0997013\n",
      "R-squared (R2) Score: 0.7568063975409568\n"
     ]
    }
   ],
   "source": [
    "mae = mean_absolute_error(y_test, y_pred)\n",
    "mse = mean_squared_error(y_test, y_pred)\n",
    "r2 = r2_score(y_test, y_pred)\n",
    "print(\"Mean Absolute Error (MAE):\", mae)\n",
    "print(\"Mean Squared Error (MSE):\", mse)\n",
    "print(\"R-squared (R2) Score:\", r2)"
   ]
  }
 ],
 "metadata": {
  "kernelspec": {
   "display_name": "dd",
   "language": "python",
   "name": "python3"
  },
  "language_info": {
   "codemirror_mode": {
    "name": "ipython",
    "version": 3
   },
   "file_extension": ".py",
   "mimetype": "text/x-python",
   "name": "python",
   "nbconvert_exporter": "python",
   "pygments_lexer": "ipython3",
   "version": "3.9.17"
  }
 },
 "nbformat": 4,
 "nbformat_minor": 2
}
