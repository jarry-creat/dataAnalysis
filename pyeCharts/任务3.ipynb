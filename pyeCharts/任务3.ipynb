{
 "cells": [
  {
   "cell_type": "code",
   "execution_count": 2,
   "metadata": {},
   "outputs": [
    {
     "name": "stdout",
     "output_type": "stream",
     "text": [
      "+--------+-----------------------+-----------------------+-----------------------+\n",
      "|  国家  |         阶段1         |         阶段2         |         阶段3         |\n",
      "+--------+-----------------------+-----------------------+-----------------------+\n",
      "|  印度  | 2020-01-30~2020-06-30 |          未知         |          未知         |\n",
      "|  伊朗  | 2020-02-20~2020-04-08 | 2020-04-29~2020-06-29 |          未知         |\n",
      "| 意大利 | 2020-01-30~2020-04-29 | 2020-04-29~2020-05-07 | 2020-05-07~2020-06-29 |\n",
      "| 加拿大 | 2020-01-27~2020-04-16 | 2020-04-17~2020-06-30 |          未知         |\n",
      "|  秘鲁  | 2020-03-06~2020-06-05 | 2020-06-05~2020-06-30 |          未知         |\n",
      "|  南非  | 2020-03-06~2020-06-30 |          未知         |          未知         |\n",
      "+--------+-----------------------+-----------------------+-----------------------+\n"
     ]
    }
   ],
   "source": [
    "#3.1\n",
    "import pandas as pd\n",
    "from pyecharts import options as opts\n",
    "from pyecharts.charts import Map,Timeline,Pie,Page,Line\n",
    "city_data = pd.ExcelFile(\"附件1.xlsx\",engine='openpyxl')\n",
    "nation = city_data.parse('国际疫情')\n",
    "list = ['印度','伊朗','意大利','加拿大','秘鲁','南非']\n",
    "page = Page(layout=Page.DraggablePageLayout)  # 合并在一页\n",
    "for i in list:#遍历\n",
    "    data1 = nation[nation['国家'] == i]#取只含一个国家的数据\n",
    "    line = (\n",
    "        Line()\n",
    "            .add_xaxis(xaxis_data=data1['日期'])\n",
    "            .add_yaxis(\"累计确诊人数\", y_axis=data1['累计确诊'])\n",
    "            .add_yaxis(\"住院人数\",y_axis= data1['累计确诊']-(data1['累计治愈'] + data1['累计死亡']))\n",
    "            .set_series_opts(label_opts=opts.LabelOpts(is_show=False))\n",
    "            .set_global_opts(\n",
    "            title_opts=opts.TitleOpts(title=data1['国家'][data1['国家'].index[0]]),\n",
    "            tooltip_opts=opts.TooltipOpts(trigger=\"axis\"),\n",
    "            toolbox_opts=opts.ToolboxOpts(is_show=True),\n",
    "            xaxis_opts=opts.AxisOpts(type_=\"category\", boundary_gap=False,),\n",
    "\n",
    "        )\n",
    "\n",
    "    )\n",
    "    page.add(line)\n",
    "page.render('3_1.html')\n",
    "from prettytable import PrettyTable\n",
    "x= PrettyTable([\"国家\", \"阶段1\", \"阶段2\",\"阶段3\"])\n",
    "x.add_row([\"印度\",'2020-01-30~2020-06-30',\"未知\",\"未知\"])\n",
    "x.add_row([\"伊朗\",'2020-02-20~2020-04-08','2020-04-29~2020-06-29','未知'])\n",
    "x.add_row([\"意大利\",'2020-01-30~2020-04-29','2020-04-29~2020-05-07','2020-05-07~2020-06-29'])\n",
    "x.add_row([\"加拿大\",'2020-01-27~2020-04-16','2020-04-17~2020-06-30','未知'])\n",
    "x.add_row([\"秘鲁\",'2020-03-06~2020-06-05','2020-06-05~2020-06-30','未知'])\n",
    "x.add_row([\"南非\",'2020-03-06~2020-06-30','未知','未知'])\n",
    "print(x)"
   ]
  },
  {
   "cell_type": "code",
   "execution_count": 4,
   "metadata": {},
   "outputs": [
    {
     "data": {
      "text/plain": [
       "'c:\\\\Users\\\\吕强\\\\Desktop\\\\week3\\\\3_2.html'"
      ]
     },
     "execution_count": 4,
     "metadata": {},
     "output_type": "execute_result"
    }
   ],
   "source": [
    "#3.2\n",
    "list = ['美国','英国','俄罗斯']\n",
    "page = Page(layout=Page.DraggablePageLayout)  # 合并在一页\n",
    "for i in list:\n",
    "    data1 = nation[nation['国家'] == i]\n",
    "    line = (\n",
    "        Line()\n",
    "            .add_xaxis(xaxis_data=data1['日期'])\n",
    "            .add_yaxis(\"累计确诊人数\", y_axis=data1['累计确诊'])\n",
    "            .add_yaxis(\"住院人数\",y_axis= data1['累计确诊']-(data1['累计治愈'] + data1['累计死亡']))\n",
    "            .set_series_opts(label_opts=opts.LabelOpts(is_show=False))\n",
    "            .set_global_opts(\n",
    "            title_opts=opts.TitleOpts(title=data1['国家'][data1['国家'].index[0]]),\n",
    "            tooltip_opts=opts.TooltipOpts(trigger=\"axis\"),\n",
    "            toolbox_opts=opts.ToolboxOpts(is_show=True),\n",
    "            xaxis_opts=opts.AxisOpts(type_=\"category\", boundary_gap=False,),\n",
    "        )\n",
    "    )\n",
    "    page.add(line)\n",
    "page.render('3_2.html')"
   ]
  }
 ],
 "metadata": {
  "kernelspec": {
   "display_name": "dd",
   "language": "python",
   "name": "python3"
  },
  "language_info": {
   "codemirror_mode": {
    "name": "ipython",
    "version": 3
   },
   "file_extension": ".py",
   "mimetype": "text/x-python",
   "name": "python",
   "nbconvert_exporter": "python",
   "pygments_lexer": "ipython3",
   "version": "3.9.17"
  },
  "orig_nbformat": 4
 },
 "nbformat": 4,
 "nbformat_minor": 2
}
