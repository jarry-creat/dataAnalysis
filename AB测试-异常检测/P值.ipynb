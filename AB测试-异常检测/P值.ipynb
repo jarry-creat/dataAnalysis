{
 "cells": [
  {
   "cell_type": "code",
   "execution_count": 9,
   "metadata": {},
   "outputs": [],
   "source": [
    "import pandas as pd\n",
    "import matplotlib.pyplot as plt\n",
    "import numpy as np"
   ]
  },
  {
   "cell_type": "code",
   "execution_count": 10,
   "metadata": {},
   "outputs": [
    {
     "data": {
      "text/html": [
       "<div>\n",
       "<style scoped>\n",
       "    .dataframe tbody tr th:only-of-type {\n",
       "        vertical-align: middle;\n",
       "    }\n",
       "\n",
       "    .dataframe tbody tr th {\n",
       "        vertical-align: top;\n",
       "    }\n",
       "\n",
       "    .dataframe thead th {\n",
       "        text-align: right;\n",
       "    }\n",
       "</style>\n",
       "<table border=\"1\" class=\"dataframe\">\n",
       "  <thead>\n",
       "    <tr style=\"text-align: right;\">\n",
       "      <th></th>\n",
       "      <th>timestamp</th>\n",
       "      <th>id</th>\n",
       "      <th>group</th>\n",
       "      <th>action</th>\n",
       "    </tr>\n",
       "  </thead>\n",
       "  <tbody>\n",
       "    <tr>\n",
       "      <th>0</th>\n",
       "      <td>2016/9/24 17:42</td>\n",
       "      <td>804196</td>\n",
       "      <td>experiment</td>\n",
       "      <td>view</td>\n",
       "    </tr>\n",
       "    <tr>\n",
       "      <th>1</th>\n",
       "      <td>2016/9/24 19:19</td>\n",
       "      <td>434745</td>\n",
       "      <td>experiment</td>\n",
       "      <td>view</td>\n",
       "    </tr>\n",
       "    <tr>\n",
       "      <th>2</th>\n",
       "      <td>2016/9/24 19:36</td>\n",
       "      <td>507599</td>\n",
       "      <td>experiment</td>\n",
       "      <td>view</td>\n",
       "    </tr>\n",
       "    <tr>\n",
       "      <th>3</th>\n",
       "      <td>2016/9/24 19:59</td>\n",
       "      <td>671993</td>\n",
       "      <td>control</td>\n",
       "      <td>view</td>\n",
       "    </tr>\n",
       "    <tr>\n",
       "      <th>4</th>\n",
       "      <td>2016/9/24 20:26</td>\n",
       "      <td>536734</td>\n",
       "      <td>experiment</td>\n",
       "      <td>view</td>\n",
       "    </tr>\n",
       "  </tbody>\n",
       "</table>\n",
       "</div>"
      ],
      "text/plain": [
       "         timestamp      id       group action\n",
       "0  2016/9/24 17:42  804196  experiment   view\n",
       "1  2016/9/24 19:19  434745  experiment   view\n",
       "2  2016/9/24 19:36  507599  experiment   view\n",
       "3  2016/9/24 19:59  671993     control   view\n",
       "4  2016/9/24 20:26  536734  experiment   view"
      ]
     },
     "execution_count": 10,
     "metadata": {},
     "output_type": "execute_result"
    }
   ],
   "source": [
    "# 1. 获取数据集\n",
    "data = pd.read_csv(\"ABtest_actions.csv\")\n",
    "data.head()"
   ]
  },
  {
   "cell_type": "code",
   "execution_count": 11,
   "metadata": {},
   "outputs": [],
   "source": [
    "# 2. 了解数据总体情况\n",
    "# 多少条数据：8188\n",
    "size = len(data)\n",
    "# 多少个用户参与：6328\n",
    "user_size = len(data['id'].drop_duplicates())\n",
    "# 测试时长：115（4个月）\n",
    "days = pd.to_datetime(data['timestamp'].tail(1).values) \\\n",
    "       - pd.to_datetime(data['timestamp'].head(1).values)"
   ]
  },
  {
   "cell_type": "code",
   "execution_count": 12,
   "metadata": {},
   "outputs": [],
   "source": [
    "# 3. CTR点击率 = 点击用户数 / 浏览用户数（去重后的独立访客数）\n",
    "# 实现思路：获取对应用户组 groupby/query\n",
    "# -> 获取点击数、浏览数 -> 去重unique -> 计算点击率\n",
    "# 方案A：对照组、控制组（control group）\n",
    "control_group = data.query('group==\"control\"')\n",
    "# print(control_group)\n",
    "control_click = control_group.query('action==\"click\"')['id'].nunique()\n",
    "control_view = control_group.query('action==\"view\"')['id'].nunique()\n",
    "control_ctr = control_click / control_view"
   ]
  },
  {
   "cell_type": "code",
   "execution_count": 13,
   "metadata": {},
   "outputs": [],
   "source": [
    "# 方案B：实验组（experiment)\n",
    "experiment_group = data.query('group==\"experiment\"')\n",
    "# print(control_group)\n",
    "experiment_click = experiment_group.query('action==\"click\"')['id'].nunique()\n",
    "experiment_view = experiment_group.query('action==\"view\"')['id'].nunique()\n",
    "experiment_ctr = experiment_click / experiment_view"
   ]
  },
  {
   "cell_type": "code",
   "execution_count": 14,
   "metadata": {},
   "outputs": [],
   "source": [
    "# 方案A的CTR vs 方案B的CTR\n",
    "diff_ctr = experiment_ctr - control_ctr"
   ]
  },
  {
   "cell_type": "code",
   "execution_count": 8,
   "metadata": {},
   "outputs": [],
   "source": [
    "# 4. p-value < 0.05\n",
    "# 4.1 进行抽样调查，进行多次AB实验\n",
    "diffs = []\n",
    "for _ in range(10000):\n",
    "    sample = data.sample(size, replace=True)\n",
    "\n",
    "    control_group = sample.query('group==\"control\"')\n",
    "    control_click = control_group.query('action==\"click\"')['id'].nunique()\n",
    "    control_view = control_group.query('action==\"view\"')['id'].nunique()\n",
    "    control_ctr = control_click / control_view\n",
    "\n",
    "    experiment_group = sample.query('group==\"experiment\"')\n",
    "    experiment_click = experiment_group.query('action==\"click\"')['id'].nunique()\n",
    "    experiment_view = experiment_group.query('action==\"view\"')['id'].nunique()\n",
    "    experiment_ctr = experiment_click / experiment_view\n",
    "\n",
    "    diff = experiment_ctr - control_ctr\n",
    "    diffs.append(diff)\n"
   ]
  },
  {
   "cell_type": "code",
   "execution_count": 15,
   "metadata": {},
   "outputs": [],
   "source": [
    "diffs = np.array(diffs)\n",
    "# 4.2 获取差异比例 -> 正态分布模型（0为中心）\n",
    "normalize_list = np.random.normal(0, diffs.std(), size)"
   ]
  },
  {
   "cell_type": "code",
   "execution_count": 16,
   "metadata": {},
   "outputs": [
    {
     "name": "stdout",
     "output_type": "stream",
     "text": [
      "p-value： 0.0052515876893014166\n",
      "p是否<0.05: True\n"
     ]
    }
   ],
   "source": [
    "# 4.3 p值<0.05\n",
    "p_value = (normalize_list > diff_ctr).mean()\n",
    "print(\"p-value：\", p_value)\n",
    "print(\"p是否<0.05:\", p_value < 0.05)"
   ]
  }
 ],
 "metadata": {
  "kernelspec": {
   "display_name": "dd",
   "language": "python",
   "name": "python3"
  },
  "language_info": {
   "codemirror_mode": {
    "name": "ipython",
    "version": 3
   },
   "file_extension": ".py",
   "mimetype": "text/x-python",
   "name": "python",
   "nbconvert_exporter": "python",
   "pygments_lexer": "ipython3",
   "version": "3.9.17"
  },
  "orig_nbformat": 4
 },
 "nbformat": 4,
 "nbformat_minor": 2
}
