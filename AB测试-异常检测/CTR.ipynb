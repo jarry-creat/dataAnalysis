{
 "cells": [
  {
   "cell_type": "code",
   "execution_count": 1,
   "metadata": {},
   "outputs": [],
   "source": [
    "import pandas as pd\n",
    "import matplotlib.pyplot as plt\n",
    "import numpy as np"
   ]
  },
  {
   "cell_type": "code",
   "execution_count": 2,
   "metadata": {},
   "outputs": [
    {
     "data": {
      "text/html": [
       "<div>\n",
       "<style scoped>\n",
       "    .dataframe tbody tr th:only-of-type {\n",
       "        vertical-align: middle;\n",
       "    }\n",
       "\n",
       "    .dataframe tbody tr th {\n",
       "        vertical-align: top;\n",
       "    }\n",
       "\n",
       "    .dataframe thead th {\n",
       "        text-align: right;\n",
       "    }\n",
       "</style>\n",
       "<table border=\"1\" class=\"dataframe\">\n",
       "  <thead>\n",
       "    <tr style=\"text-align: right;\">\n",
       "      <th></th>\n",
       "      <th>timestamp</th>\n",
       "      <th>id</th>\n",
       "      <th>group</th>\n",
       "      <th>action</th>\n",
       "    </tr>\n",
       "  </thead>\n",
       "  <tbody>\n",
       "    <tr>\n",
       "      <th>0</th>\n",
       "      <td>2016/9/24 17:42</td>\n",
       "      <td>804196</td>\n",
       "      <td>experiment</td>\n",
       "      <td>view</td>\n",
       "    </tr>\n",
       "    <tr>\n",
       "      <th>1</th>\n",
       "      <td>2016/9/24 19:19</td>\n",
       "      <td>434745</td>\n",
       "      <td>experiment</td>\n",
       "      <td>view</td>\n",
       "    </tr>\n",
       "    <tr>\n",
       "      <th>2</th>\n",
       "      <td>2016/9/24 19:36</td>\n",
       "      <td>507599</td>\n",
       "      <td>experiment</td>\n",
       "      <td>view</td>\n",
       "    </tr>\n",
       "    <tr>\n",
       "      <th>3</th>\n",
       "      <td>2016/9/24 19:59</td>\n",
       "      <td>671993</td>\n",
       "      <td>control</td>\n",
       "      <td>view</td>\n",
       "    </tr>\n",
       "    <tr>\n",
       "      <th>4</th>\n",
       "      <td>2016/9/24 20:26</td>\n",
       "      <td>536734</td>\n",
       "      <td>experiment</td>\n",
       "      <td>view</td>\n",
       "    </tr>\n",
       "  </tbody>\n",
       "</table>\n",
       "</div>"
      ],
      "text/plain": [
       "         timestamp      id       group action\n",
       "0  2016/9/24 17:42  804196  experiment   view\n",
       "1  2016/9/24 19:19  434745  experiment   view\n",
       "2  2016/9/24 19:36  507599  experiment   view\n",
       "3  2016/9/24 19:59  671993     control   view\n",
       "4  2016/9/24 20:26  536734  experiment   view"
      ]
     },
     "execution_count": 2,
     "metadata": {},
     "output_type": "execute_result"
    }
   ],
   "source": [
    "# 1.获取数据集\n",
    "data = pd.read_csv(\"ABtest_actions.csv\")\n",
    "data.head()"
   ]
  },
  {
   "cell_type": "code",
   "execution_count": 7,
   "metadata": {},
   "outputs": [
    {
     "name": "stdout",
     "output_type": "stream",
     "text": [
      "TimedeltaIndex(['115 days 16:42:00'], dtype='timedelta64[ns]', freq=None)\n"
     ]
    }
   ],
   "source": [
    "# 2. 了解数据总体情况\n",
    "# 多少条数据：8188\n",
    "size = len(data)\n",
    "# 记录去重后的数据集\n",
    "user_size = len(data['id'].drop_duplicates())\n",
    "#测试时长:115\n",
    "days = pd.to_datetime(data['timestamp'].tail(1).values) - pd.to_datetime(data['timestamp'].head(1).values)\n",
    "print(days)"
   ]
  },
  {
   "cell_type": "code",
   "execution_count": 12,
   "metadata": {},
   "outputs": [],
   "source": [
    "# # 3. CTR点击率 = 点击用户数 / 浏览用户数（去重后的独立访客数）\n",
    "# 实现思路：获取对应用户组 groupby/query\n",
    "# -> 获取点击数、浏览数 -> 去重unique -> 计算点击率\n",
    "# 方案A：对照组、控制组（control group）\n",
    "control_group = data.query('group==\"experiment\"')\n",
    "control_click = control_group.query('action==\"click\"')['id'].nunique()\n",
    "control_view = control_group.query('action==\"view\"')['id'].nunique()\n",
    "control_ctr = control_click / control_view\n"
   ]
  },
  {
   "cell_type": "code",
   "execution_count": 13,
   "metadata": {},
   "outputs": [],
   "source": [
    "# 方案B：实验组（experiment)\n",
    "experiment_group = data.query('group==\"experiment\"')\n",
    "# print(control_group)\n",
    "experiment_click = experiment_group.query('action==\"click\"')['id'].nunique()\n",
    "experiment_view = experiment_group.query('action==\"view\"')['id'].nunique()\n",
    "experiment_ctr = experiment_click / experiment_view"
   ]
  },
  {
   "cell_type": "code",
   "execution_count": 14,
   "metadata": {},
   "outputs": [],
   "source": [
    "# 方案A的CTR vs 方案B的CTR\n",
    "diff_ctr = experiment_ctr - control_ctr"
   ]
  },
  {
   "cell_type": "code",
   "execution_count": 18,
   "metadata": {},
   "outputs": [],
   "source": [
    "# 4. p-value < 0.05\n",
    "# 4.1 进行抽样调查，进行多次AB实验\n",
    "diffs = []\n",
    "for _ in range(10000):\n",
    "    sample = data.sample(size,replace=True)\n",
    "\n",
    "    control_group = sample.query('group==\"control\"')\n",
    "    control_click = control_group.query('action==\"click\"')['id'].nunique()\n",
    "    control_view = control_group.query('action==\"view\"')['id'].nunique()\n",
    "    control_ctr = control_click / control_view\n",
    "\n",
    "    experiment_group = sample.query('group==\"experiment\"')\n",
    "    experiment_click = experiment_group.query('action==\"click\"')['id'].nunique()\n",
    "    experiment_view = experiment_group.query('action==\"view\"')['id'].nunique()\n",
    "    experiment_ctr = experiment_click / experiment_view\n",
    "\n",
    "    diff = experiment_ctr - control_ctr\n",
    "    diffs.append(diff)\n",
    "\n",
    "diffs = np.array(diffs)\n"
   ]
  },
  {
   "cell_type": "code",
   "execution_count": 20,
   "metadata": {},
   "outputs": [
    {
     "data": {
      "image/png": "[encoded data removed]",
      "text/plain": [
       "<Figure size 640x480 with 1 Axes>"
      ]
     },
     "metadata": {},
     "output_type": "display_data"
    }
   ],
   "source": [
    "# 4.2 获取差异比例 -> 正态分布模型（0为中心）\n",
    "normalize_list = np.random.normal(0, diffs.std(), size)\n",
    "plt.hist(normalize_list)\n",
    "plt.axvline(x=diff_ctr, color=\"red\")\n",
    "plt.show()"
   ]
  },
  {
   "cell_type": "code",
   "execution_count": 21,
   "metadata": {},
   "outputs": [
    {
     "name": "stdout",
     "output_type": "stream",
     "text": [
      "p-value： 0.49865657059110896\n",
      "p是否<0.05: False\n"
     ]
    }
   ],
   "source": [
    "# 4.3 p值<0.05\n",
    "p_value = (normalize_list > diff_ctr).mean()\n",
    "print(\"p-value：\", p_value)\n",
    "print(\"p是否<0.05:\", p_value < 0.05)"
   ]
  }
 ],
 "metadata": {
  "kernelspec": {
   "display_name": "dd",
   "language": "python",
   "name": "python3"
  },
  "language_info": {
   "codemirror_mode": {
    "name": "ipython",
    "version": 3
   },
   "file_extension": ".py",
   "mimetype": "text/x-python",
   "name": "python",
   "nbconvert_exporter": "python",
   "pygments_lexer": "ipython3",
   "version": "3.9.17"
  },
  "orig_nbformat": 4
 },
 "nbformat": 4,
 "nbformat_minor": 2
}
