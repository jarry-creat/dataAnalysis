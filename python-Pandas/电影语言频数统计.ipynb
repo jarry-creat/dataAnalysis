{
 "cells": [
  {
   "cell_type": "code",
   "execution_count": null,
   "metadata": {},
   "outputs": [],
   "source": [
    "import pandas as pd\n",
    "import numpy as np\n",
    "\n",
    "pd.set_option('display.max_columns', None)\n",
    "pd.set_option('display.max_rows', None)\n",
    "pd.set_option('max_colwidth', 30)\n",
    "data = pd.read_csv(\"movie_data_cleaned.csv\",\n",
    "                   usecols=['title', 'country', 'language', 'release_date', 'average'])\n",
    "data = data[['title', 'country', 'language', 'release_date', 'average']]\n",
    "# print(data['language'])\n",
    "\n",
    "# label统计 -> list\n",
    "data['language'] = data['language'].str.strip(' ')\n",
    "data['language'] = data['language'].fillna(value='')\n",
    "lang_list = []\n",
    "for l in data['language']:\n",
    "    l_list = l.split(' / ')\n",
    "    for label in l_list:  # 123,2,3 -> 1,2,3\n",
    "        lang_list.append(label)\n",
    "lang_list = list(set(lang_list))\n",
    "lang_list.remove('')\n",
    "# print(lang_list)\n",
    "\n",
    "# 统计每个类型标签对应的电影量/条数/频数\n",
    "data_lang_tj = pd.DataFrame(np.zeros([len(lang_list), 1]),\n",
    "                            index=lang_list, columns=['tj'])  # 2列：标签，统计值tj\n",
    "# print(data_lang_tj)\n",
    "for i in data['language']:\n",
    "    for label in lang_list:\n",
    "        if str(i).__contains__(label):\n",
    "            data_lang_tj.loc[label, 'tj'] += 1\n",
    "# print(data_lang_tj)\n",
    "\n",
    "# 将小类汇总为大类，并添加至统计df\n",
    "chinese_fy = data_lang_tj.loc['湖南话', 'tj'] + data_lang_tj.loc['北京话', 'tj']\n",
    "# print(chinese_fy)\n",
    "data_lang_tj.loc['中国方言', 'tj'] = chinese_fy\n",
    "print(data_lang_tj)\n"
   ]
  }
 ],
 "metadata": {
  "language_info": {
   "name": "python"
  },
  "orig_nbformat": 4
 },
 "nbformat": 4,
 "nbformat_minor": 2
}
