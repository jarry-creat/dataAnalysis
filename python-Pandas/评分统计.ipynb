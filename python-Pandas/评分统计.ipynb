{
 "cells": [
  {
   "cell_type": "code",
   "execution_count": 1,
   "metadata": {},
   "outputs": [],
   "source": [
    "import pandas as pd\n",
    "import numpy as np\n",
    "pd.set_option('display.max_columns',None)\n",
    "pd.set_option('display.max_rows',None)\n",
    "pd.set_option('max_colwidth',50)\n",
    "data = pd.read_csv('movie_data_cleaned.csv')"
   ]
  },
  {
   "cell_type": "code",
   "execution_count": 2,
   "metadata": {},
   "outputs": [
    {
     "name": "stdout",
     "output_type": "stream",
     "text": [
      "count    8338.000000\n",
      "mean        7.196378\n",
      "std         1.166439\n",
      "min         2.200000\n",
      "25%         6.600000\n",
      "50%         7.400000\n",
      "75%         8.000000\n",
      "max         9.700000\n",
      "Name: average, dtype: float64\n"
     ]
    }
   ],
   "source": [
    "# 知道当前数据区间：最大值、最小值\n",
    "print(data['average'].describe())"
   ]
  },
  {
   "cell_type": "code",
   "execution_count": 4,
   "metadata": {},
   "outputs": [
    {
     "name": "stdout",
     "output_type": "stream",
     "text": [
      "[2.2, 2.3, 2.4, 2.5, 2.6, 2.7, 2.8, 2.9, 3.0, 3.1, 3.2, 3.3, 3.4, 3.5, 3.6, 3.7, 3.8, 3.9, 4.0, 4.1, 4.2, 4.3, 4.4, 4.5, 4.6, 4.7, 4.8, 4.9, 5.0, 5.1, 5.2, 5.3, 5.4, 5.5, 5.6, 5.7, 5.8, 5.9, 6.0, 6.1, 6.2, 6.3, 6.4, 6.5, 6.6, 6.7, 6.8, 6.9, 7.0, 7.1, 7.2, 7.3, 7.4, 7.5, 7.6, 7.7, 7.8, 7.9, 8.0, 8.1, 8.2, 8.3, 8.4, 8.5, 8.6, 8.7, 8.8, 8.9, 9.0, 9.1, 9.2, 9.3, 9.4, 9.5, 9.6]\n"
     ]
    }
   ],
   "source": [
    "# 获取各评分数据区间\n",
    "x = 2.2\n",
    "rate_list = []\n",
    "while x < 9.7:\n",
    "    rate_list.append(x)\n",
    "    x += 0.1\n",
    "    x = x.__round__(1)\n",
    "print(rate_list)"
   ]
  },
  {
   "cell_type": "code",
   "execution_count": 5,
   "metadata": {},
   "outputs": [
    {
     "name": "stdout",
     "output_type": "stream",
     "text": [
      "        tj\n",
      "2.2    1.0\n",
      "2.3    0.0\n",
      "2.4    1.0\n",
      "2.5    2.0\n",
      "2.6    2.0\n",
      "2.7    4.0\n",
      "2.8    5.0\n",
      "2.9   13.0\n",
      "3.0    5.0\n",
      "3.1   10.0\n",
      "3.2    9.0\n",
      "3.3   13.0\n",
      "3.4    8.0\n",
      "3.5   11.0\n",
      "3.6   11.0\n",
      "3.7   18.0\n",
      "3.8   22.0\n",
      "3.9   25.0\n",
      "4.0   13.0\n",
      "4.1   11.0\n",
      "4.2   21.0\n",
      "4.3   19.0\n",
      "4.4   20.0\n",
      "4.5   23.0\n",
      "4.6   35.0\n",
      "4.7   33.0\n",
      "4.8   31.0\n",
      "4.9   43.0\n",
      "5.0   45.0\n",
      "5.1   34.0\n",
      "5.2   50.0\n",
      "5.3   50.0\n",
      "5.4   68.0\n",
      "5.5   70.0\n",
      "5.6   81.0\n",
      "5.7   93.0\n",
      "5.8   86.0\n",
      "5.9  123.0\n",
      "6.0   94.0\n",
      "6.1  138.0\n",
      "6.2  140.0\n",
      "6.3  154.0\n",
      "6.4  207.0\n",
      "6.5  202.0\n",
      "6.6  229.0\n",
      "6.7  246.0\n",
      "6.8  244.0\n",
      "6.9  248.0\n",
      "7.0  176.0\n",
      "7.1  253.0\n",
      "7.2  429.0\n",
      "7.3  296.0\n",
      "7.4  327.0\n",
      "7.5  315.0\n",
      "7.6  311.0\n",
      "7.7  351.0\n",
      "7.8  290.0\n",
      "7.9  306.0\n",
      "8.0  232.0\n",
      "8.1  280.0\n",
      "8.2  251.0\n",
      "8.3  274.0\n",
      "8.4  232.0\n",
      "8.5  196.0\n",
      "8.6  197.0\n",
      "8.7  166.0\n",
      "8.8  129.0\n",
      "8.9   86.0\n",
      "9.0   61.0\n",
      "9.1   65.0\n",
      "9.2   43.0\n",
      "9.3   26.0\n",
      "9.4   17.0\n",
      "9.5   11.0\n",
      "9.6    5.0\n"
     ]
    }
   ],
   "source": [
    "# 依次进行统计\n",
    "# 给定一个统计容器\n",
    "data_rate_tj = pd.DataFrame(np.zeros([len(rate_list), 1]),\n",
    "                            index=rate_list, columns=['tj'])\n",
    "for r in data['average']:\n",
    "    # print(r, \"=========\")\n",
    "    for label in rate_list:\n",
    "        # print(label,\"----------\")\n",
    "        if r == label:\n",
    "            data_rate_tj.loc[label, 'tj'] += 1\n",
    "print(data_rate_tj)"
   ]
  }
 ],
 "metadata": {
  "kernelspec": {
   "display_name": "dd",
   "language": "python",
   "name": "python3"
  },
  "language_info": {
   "codemirror_mode": {
    "name": "ipython",
    "version": 3
   },
   "file_extension": ".py",
   "mimetype": "text/x-python",
   "name": "python",
   "nbconvert_exporter": "python",
   "pygments_lexer": "ipython3",
   "version": "3.9.17"
  }
 },
 "nbformat": 4,
 "nbformat_minor": 2
}
